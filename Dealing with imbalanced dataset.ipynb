{
 "cells": [
  {
   "cell_type": "markdown",
   "metadata": {},
   "source": [
    "1. [Introduction](#1)\n",
    "1. [Gather Sense of Our Data](#2)\n",
    "1. [Scaling and Distributing](#3)\n",
    "1. [Random Under-Sampling](#4)\n",
    "1. [Correlations and outliers](#5)\n",
    "1. [Dimensionality Reduction and Clustering](#6)\n",
    "1. [Modeling with Undersampling](#7)\n",
    "    - /!\\ IMPORTANT NOTE /!\\\n",
    "    - Undersampling before cross validation (prone to overfit)\n",
    "    - Undersampling during cross validation\n",
    "1. [Oversampling with SMOTE techniques](#8)\n",
    "    - SMOTE before cross-validation\n",
    "    - SMOTE during cross-validation\n",
    "1. [Neural Networks Testing Random UnderSampling Data vs OverSampling (SMOTE)](#9)\n",
    "1. [Conclusion](#10)"
   ]
  },
  {
   "cell_type": "markdown",
   "metadata": {},
   "source": [
    "<a id=\"1\"></a> <br>\n",
    "## Introduction \n",
    "\n",
    "In this kernel we will use various predictive models to see how accurate they are in detecting whether a transaction is a normal payment or a fraud. As described in the dataset, the features are scaled and the names of the features are not shown due to privacy reasons. Nevertheless, we can still analyze some important aspects of the dataset. We will use Undersampling and Oversampling\n",
    "\n",
    "The main objectif of this notebook is to show a common mistake with cross-validation and imbalanced dataset and how to avoid her, let me explain.\n",
    "\n",
    "In the context of many medical applications for example, we have datasets where we have two classes for the main outcome; normal samples and relevant samples. For example in a cancer detection application we might have a small percentages of patients with cancer (relevant samples) while the majority of samples might be healthy individuals. Outside of the medical space, this is true (even more) for the case for example of fraud detection, where the rate of relevant samples (i.e. frauds) to normal samples might be even in the order of 1 to 100 000.\n",
    "\n",
    "The main motivation behind the need to preprocess imbalanced data before we feed them into a classifier is that typically classifiers are more sensitive to detecting the majority class and less sensitive to the minority class. Thus, if we don't take care of the issue, the classification output will be biased, in many cases resulting in always predicting the majority class. \n",
    "\n",
    "But we will see than preprocessing our data before cross-validation to deal with our imbalanced dataset can result sometime with biased result who tend to overfit. \n",
    "\n",
    "I will explain more in depth later in the notebook, for no let's star by gater some sense of the dataset.\n",
    "\n",
    "<a id=\"2\"></a> <br>\n",
    "## Gather Sense of Our Data:\n",
    "\n",
    "The first thing we must do is gather a basic sense of our data. Remember, except for the transaction and amount we dont know what the other columns are (due to privacy reasons). The only thing we know, is that those columns that are unknown have been scaled already."
   ]
  },
  {
   "cell_type": "code",
   "execution_count": 44,
   "metadata": {},
   "outputs": [],
   "source": [
    "# Imported Libraries\n",
    "\n",
    "import numpy as np \n",
    "import pandas as pd \n",
    "import tensorflow as tf\n",
    "import matplotlib.pyplot as plt\n",
    "import seaborn as sns\n",
    "from sklearn.manifold import TSNE\n",
    "from sklearn.decomposition import PCA, TruncatedSVD\n",
    "import matplotlib.patches as mpatches\n",
    "import time\n",
    "\n",
    "# Classifier Libraries\n",
    "from sklearn.linear_model import LogisticRegression\n",
    "from sklearn.svm import SVC\n",
    "from sklearn.neighbors import KNeighborsClassifier\n",
    "from sklearn.tree import DecisionTreeClassifier\n",
    "from sklearn.ensemble import RandomForestClassifier\n",
    "import collections\n",
    "from sklearn.ensemble import RandomForestClassifier\n",
    "from sklearn.tree import DecisionTreeClassifier\n",
    "from sklearn.ensemble import GradientBoostingClassifier\n",
    "import sklearn.model_selection as ms\n",
    "from lightgbm import LGBMClassifier\n",
    "import xgboost as xgb\n",
    "from sklearn.ensemble import ExtraTreesClassifier\n",
    "from sklearn.ensemble import VotingClassifier\n",
    "from sklearn.model_selection import StratifiedKFold\n",
    "from sklearn.svm import LinearSVC\n",
    "from sklearn import tree\n",
    "from sklearn import metrics\n",
    "from sklearn import ensemble\n",
    "from sklearn import linear_model \n",
    "from sklearn import naive_bayes \n",
    "from sklearn.svm import NuSVC\n",
    "from sklearn.neighbors import KNeighborsClassifier\n",
    "from sklearn.linear_model import PassiveAggressiveClassifier\n",
    "from sklearn.ensemble import BaggingClassifier\n",
    "from catboost import CatBoostRegressor\n",
    "from sklearn.linear_model import RidgeClassifierCV\n",
    "from sklearn.naive_bayes import GaussianNB\n",
    "from sklearn.naive_bayes import BernoulliNB\n",
    "from sklearn import svm, tree, linear_model, neighbors, naive_bayes, ensemble, discriminant_analysis, gaussian_process\n",
    "from xgboost import XGBClassifier\n",
    "from sklearn import model_selection\n",
    "\n",
    "# Keras\n",
    "\n",
    "import keras\n",
    "from keras import backend as K\n",
    "from keras.models import Sequential\n",
    "from keras.layers import Activation\n",
    "from keras.layers.core import Dense\n",
    "from keras.optimizers import Adam\n",
    "from keras.metrics import categorical_crossentropy\n",
    "\n",
    "# Other Libraries\n",
    "from sklearn.model_selection import train_test_split, RandomizedSearchCV, cross_val_score, StratifiedShuffleSplit\n",
    "from sklearn.preprocessing import RobustScaler\n",
    "from sklearn.pipeline import make_pipeline\n",
    "from imblearn.pipeline import make_pipeline as imbalanced_make_pipeline\n",
    "from imblearn.over_sampling import SMOTE\n",
    "from imblearn.under_sampling import NearMiss\n",
    "from imblearn.metrics import classification_report_imbalanced\n",
    "from sklearn.metrics import precision_score, recall_score, f1_score, roc_auc_score, accuracy_score, classification_report, confusion_matrix\n",
    "from collections import Counter\n",
    "from sklearn.model_selection import KFold, StratifiedKFold\n",
    "import warnings\n",
    "warnings.filterwarnings(\"ignore\")"
   ]
  },
  {
   "cell_type": "code",
   "execution_count": 2,
   "metadata": {},
   "outputs": [
    {
     "data": {
      "text/html": [
       "<div>\n",
       "<style scoped>\n",
       "    .dataframe tbody tr th:only-of-type {\n",
       "        vertical-align: middle;\n",
       "    }\n",
       "\n",
       "    .dataframe tbody tr th {\n",
       "        vertical-align: top;\n",
       "    }\n",
       "\n",
       "    .dataframe thead th {\n",
       "        text-align: right;\n",
       "    }\n",
       "</style>\n",
       "<table border=\"1\" class=\"dataframe\">\n",
       "  <thead>\n",
       "    <tr style=\"text-align: right;\">\n",
       "      <th></th>\n",
       "      <th>Time</th>\n",
       "      <th>V1</th>\n",
       "      <th>V2</th>\n",
       "      <th>V3</th>\n",
       "      <th>V4</th>\n",
       "      <th>V5</th>\n",
       "      <th>V6</th>\n",
       "      <th>V7</th>\n",
       "      <th>V8</th>\n",
       "      <th>V9</th>\n",
       "      <th>...</th>\n",
       "      <th>V21</th>\n",
       "      <th>V22</th>\n",
       "      <th>V23</th>\n",
       "      <th>V24</th>\n",
       "      <th>V25</th>\n",
       "      <th>V26</th>\n",
       "      <th>V27</th>\n",
       "      <th>V28</th>\n",
       "      <th>Amount</th>\n",
       "      <th>Class</th>\n",
       "    </tr>\n",
       "  </thead>\n",
       "  <tbody>\n",
       "    <tr>\n",
       "      <th>0</th>\n",
       "      <td>0.0</td>\n",
       "      <td>-1.359807</td>\n",
       "      <td>-0.072781</td>\n",
       "      <td>2.536347</td>\n",
       "      <td>1.378155</td>\n",
       "      <td>-0.338321</td>\n",
       "      <td>0.462388</td>\n",
       "      <td>0.239599</td>\n",
       "      <td>0.098698</td>\n",
       "      <td>0.363787</td>\n",
       "      <td>...</td>\n",
       "      <td>-0.018307</td>\n",
       "      <td>0.277838</td>\n",
       "      <td>-0.110474</td>\n",
       "      <td>0.066928</td>\n",
       "      <td>0.128539</td>\n",
       "      <td>-0.189115</td>\n",
       "      <td>0.133558</td>\n",
       "      <td>-0.021053</td>\n",
       "      <td>149.62</td>\n",
       "      <td>0</td>\n",
       "    </tr>\n",
       "    <tr>\n",
       "      <th>1</th>\n",
       "      <td>0.0</td>\n",
       "      <td>1.191857</td>\n",
       "      <td>0.266151</td>\n",
       "      <td>0.166480</td>\n",
       "      <td>0.448154</td>\n",
       "      <td>0.060018</td>\n",
       "      <td>-0.082361</td>\n",
       "      <td>-0.078803</td>\n",
       "      <td>0.085102</td>\n",
       "      <td>-0.255425</td>\n",
       "      <td>...</td>\n",
       "      <td>-0.225775</td>\n",
       "      <td>-0.638672</td>\n",
       "      <td>0.101288</td>\n",
       "      <td>-0.339846</td>\n",
       "      <td>0.167170</td>\n",
       "      <td>0.125895</td>\n",
       "      <td>-0.008983</td>\n",
       "      <td>0.014724</td>\n",
       "      <td>2.69</td>\n",
       "      <td>0</td>\n",
       "    </tr>\n",
       "    <tr>\n",
       "      <th>2</th>\n",
       "      <td>1.0</td>\n",
       "      <td>-1.358354</td>\n",
       "      <td>-1.340163</td>\n",
       "      <td>1.773209</td>\n",
       "      <td>0.379780</td>\n",
       "      <td>-0.503198</td>\n",
       "      <td>1.800499</td>\n",
       "      <td>0.791461</td>\n",
       "      <td>0.247676</td>\n",
       "      <td>-1.514654</td>\n",
       "      <td>...</td>\n",
       "      <td>0.247998</td>\n",
       "      <td>0.771679</td>\n",
       "      <td>0.909412</td>\n",
       "      <td>-0.689281</td>\n",
       "      <td>-0.327642</td>\n",
       "      <td>-0.139097</td>\n",
       "      <td>-0.055353</td>\n",
       "      <td>-0.059752</td>\n",
       "      <td>378.66</td>\n",
       "      <td>0</td>\n",
       "    </tr>\n",
       "    <tr>\n",
       "      <th>3</th>\n",
       "      <td>1.0</td>\n",
       "      <td>-0.966272</td>\n",
       "      <td>-0.185226</td>\n",
       "      <td>1.792993</td>\n",
       "      <td>-0.863291</td>\n",
       "      <td>-0.010309</td>\n",
       "      <td>1.247203</td>\n",
       "      <td>0.237609</td>\n",
       "      <td>0.377436</td>\n",
       "      <td>-1.387024</td>\n",
       "      <td>...</td>\n",
       "      <td>-0.108300</td>\n",
       "      <td>0.005274</td>\n",
       "      <td>-0.190321</td>\n",
       "      <td>-1.175575</td>\n",
       "      <td>0.647376</td>\n",
       "      <td>-0.221929</td>\n",
       "      <td>0.062723</td>\n",
       "      <td>0.061458</td>\n",
       "      <td>123.50</td>\n",
       "      <td>0</td>\n",
       "    </tr>\n",
       "    <tr>\n",
       "      <th>4</th>\n",
       "      <td>2.0</td>\n",
       "      <td>-1.158233</td>\n",
       "      <td>0.877737</td>\n",
       "      <td>1.548718</td>\n",
       "      <td>0.403034</td>\n",
       "      <td>-0.407193</td>\n",
       "      <td>0.095921</td>\n",
       "      <td>0.592941</td>\n",
       "      <td>-0.270533</td>\n",
       "      <td>0.817739</td>\n",
       "      <td>...</td>\n",
       "      <td>-0.009431</td>\n",
       "      <td>0.798278</td>\n",
       "      <td>-0.137458</td>\n",
       "      <td>0.141267</td>\n",
       "      <td>-0.206010</td>\n",
       "      <td>0.502292</td>\n",
       "      <td>0.219422</td>\n",
       "      <td>0.215153</td>\n",
       "      <td>69.99</td>\n",
       "      <td>0</td>\n",
       "    </tr>\n",
       "  </tbody>\n",
       "</table>\n",
       "<p>5 rows × 31 columns</p>\n",
       "</div>"
      ],
      "text/plain": [
       "   Time        V1        V2        V3        V4        V5        V6        V7  \\\n",
       "0   0.0 -1.359807 -0.072781  2.536347  1.378155 -0.338321  0.462388  0.239599   \n",
       "1   0.0  1.191857  0.266151  0.166480  0.448154  0.060018 -0.082361 -0.078803   \n",
       "2   1.0 -1.358354 -1.340163  1.773209  0.379780 -0.503198  1.800499  0.791461   \n",
       "3   1.0 -0.966272 -0.185226  1.792993 -0.863291 -0.010309  1.247203  0.237609   \n",
       "4   2.0 -1.158233  0.877737  1.548718  0.403034 -0.407193  0.095921  0.592941   \n",
       "\n",
       "         V8        V9  ...       V21       V22       V23       V24       V25  \\\n",
       "0  0.098698  0.363787  ... -0.018307  0.277838 -0.110474  0.066928  0.128539   \n",
       "1  0.085102 -0.255425  ... -0.225775 -0.638672  0.101288 -0.339846  0.167170   \n",
       "2  0.247676 -1.514654  ...  0.247998  0.771679  0.909412 -0.689281 -0.327642   \n",
       "3  0.377436 -1.387024  ... -0.108300  0.005274 -0.190321 -1.175575  0.647376   \n",
       "4 -0.270533  0.817739  ... -0.009431  0.798278 -0.137458  0.141267 -0.206010   \n",
       "\n",
       "        V26       V27       V28  Amount  Class  \n",
       "0 -0.189115  0.133558 -0.021053  149.62      0  \n",
       "1  0.125895 -0.008983  0.014724    2.69      0  \n",
       "2 -0.139097 -0.055353 -0.059752  378.66      0  \n",
       "3 -0.221929  0.062723  0.061458  123.50      0  \n",
       "4  0.502292  0.219422  0.215153   69.99      0  \n",
       "\n",
       "[5 rows x 31 columns]"
      ]
     },
     "execution_count": 2,
     "metadata": {},
     "output_type": "execute_result"
    }
   ],
   "source": [
    "df = pd.read_csv('creditcard.csv')\n",
    "df.head()"
   ]
  },
  {
   "cell_type": "markdown",
   "metadata": {},
   "source": [
    "I recently discovered pandas_profiling. It Generates profile reports from a pandas DataFrame. The pandas df.describe() function is great but a little basic for serious exploratory data analysis. pandas_profiling extends the pandas DataFrame with df.profile_report() for quick data analysis. It provide a great detailed overview on the variable, the interactions between them, the correlations (with multiple methods), the missing values and so on. \n",
    "\n",
    "Here I generate a html files to my folder, it will not render in this notebook.\n",
    "\n",
    "If you want to display it in your own computer within your folder :\n",
    "\n",
    "- Install it with : `pip install https://github.com/pandas-profiling/pandas-profiling/archive/master.zip`\n",
    "- Discover it with https://www.datacorner.fr/pandas-profiling/\n",
    "- And just run the code below with your own dataframe and here we go. "
   ]
  },
  {
   "cell_type": "code",
   "execution_count": 13,
   "metadata": {},
   "outputs": [
    {
     "data": {
      "application/vnd.jupyter.widget-view+json": {
       "model_id": "fbf28364624240e2af534f289ba40981",
       "version_major": 2,
       "version_minor": 0
      },
      "text/plain": [
       "HBox(children=(FloatProgress(value=0.0, description='Summarize dataset', max=45.0, style=ProgressStyle(descrip…"
      ]
     },
     "metadata": {},
     "output_type": "display_data"
    },
    {
     "name": "stdout",
     "output_type": "stream",
     "text": [
      "\n"
     ]
    },
    {
     "data": {
      "application/vnd.jupyter.widget-view+json": {
       "model_id": "4704c9868bc3482e904eca40a086204e",
       "version_major": 2,
       "version_minor": 0
      },
      "text/plain": [
       "HBox(children=(FloatProgress(value=0.0, description='Generate report structure', max=1.0, style=ProgressStyle(…"
      ]
     },
     "metadata": {},
     "output_type": "display_data"
    },
    {
     "name": "stdout",
     "output_type": "stream",
     "text": [
      "\n"
     ]
    },
    {
     "data": {
      "application/vnd.jupyter.widget-view+json": {
       "model_id": "a1814b6c26594ea2b155fb49c14bf2f1",
       "version_major": 2,
       "version_minor": 0
      },
      "text/plain": [
       "HBox(children=(FloatProgress(value=0.0, description='Render HTML', max=1.0, style=ProgressStyle(description_wi…"
      ]
     },
     "metadata": {},
     "output_type": "display_data"
    },
    {
     "name": "stdout",
     "output_type": "stream",
     "text": [
      "\n"
     ]
    },
    {
     "data": {
      "application/vnd.jupyter.widget-view+json": {
       "model_id": "827a14f999b7453cb1f869480682ef11",
       "version_major": 2,
       "version_minor": 0
      },
      "text/plain": [
       "HBox(children=(FloatProgress(value=0.0, description='Export report to file', max=1.0, style=ProgressStyle(desc…"
      ]
     },
     "metadata": {},
     "output_type": "display_data"
    },
    {
     "name": "stdout",
     "output_type": "stream",
     "text": [
      "\n"
     ]
    }
   ],
   "source": [
    "from pandas_profiling import ProfileReport\n",
    "\n",
    "\n",
    "prof = ProfileReport(df)\n",
    "\n",
    "prof.to_file(output_file='rapport.html')\n"
   ]
  },
  {
   "cell_type": "code",
   "execution_count": 5,
   "metadata": {},
   "outputs": [
    {
     "data": {
      "text/plain": [
       "0"
      ]
     },
     "execution_count": 5,
     "metadata": {},
     "output_type": "execute_result"
    }
   ],
   "source": [
    "df.isnull().sum().max()"
   ]
  },
  {
   "cell_type": "markdown",
   "metadata": {},
   "source": [
    "No null value, that's convenient."
   ]
  },
  {
   "cell_type": "code",
   "execution_count": 7,
   "metadata": {},
   "outputs": [
    {
     "data": {
      "text/plain": [
       "Index(['Time', 'V1', 'V2', 'V3', 'V4', 'V5', 'V6', 'V7', 'V8', 'V9', 'V10',\n",
       "       'V11', 'V12', 'V13', 'V14', 'V15', 'V16', 'V17', 'V18', 'V19', 'V20',\n",
       "       'V21', 'V22', 'V23', 'V24', 'V25', 'V26', 'V27', 'V28', 'Amount',\n",
       "       'Class'],\n",
       "      dtype='object')"
      ]
     },
     "execution_count": 7,
     "metadata": {},
     "output_type": "execute_result"
    }
   ],
   "source": [
    "df.columns"
   ]
  },
  {
   "cell_type": "code",
   "execution_count": 24,
   "metadata": {},
   "outputs": [
    {
     "data": {
      "text/plain": [
       "0    284315\n",
       "1       492\n",
       "Name: Class, dtype: int64"
      ]
     },
     "execution_count": 24,
     "metadata": {},
     "output_type": "execute_result"
    }
   ],
   "source": [
    "df['Class'].value_counts()"
   ]
  },
  {
   "cell_type": "code",
   "execution_count": 135,
   "metadata": {},
   "outputs": [
    {
     "name": "stdout",
     "output_type": "stream",
     "text": [
      "There are 99.83% cases of No Frauds\n"
     ]
    }
   ],
   "source": [
    "print('There are {:.4}% cases of No Frauds'.format(df['Class'].value_counts(normalize = True)[0]*100))"
   ]
  },
  {
   "cell_type": "code",
   "execution_count": 136,
   "metadata": {},
   "outputs": [
    {
     "name": "stdout",
     "output_type": "stream",
     "text": [
      "There are 0.17% cases of Frauds\n"
     ]
    }
   ],
   "source": [
    "print('There are {:.2}% cases of Frauds'.format(df['Class'].value_counts(normalize = True)[1]*100))"
   ]
  },
  {
   "cell_type": "markdown",
   "metadata": {},
   "source": [
    "Clearly the dataset is imbalanced. If we use this dataframe as the base for our predictive models and analysis we might get a lot of errors and our algorithms will probably overfit since it will \"assume\" that most transactions are not fraud. But we don't want our model to assume, we want our model to detect patterns that give signs of fraud !"
   ]
  },
  {
   "cell_type": "markdown",
   "metadata": {},
   "source": [
    "<a id=\"3\"></a> <br>\n",
    "## Scaling and Distributing\n",
    "In this phase of our kernel, we will first scale the columns comprise of Time and Amount . Time and amount should be scaled as the other columns. On the other hand, we need to also create a sub sample of the dataframe in order to have an equal amount of Fraud and Non-Fraud cases, helping our algorithms better understand patterns that determines whether a transaction is a fraud or not."
   ]
  },
  {
   "cell_type": "markdown",
   "metadata": {},
   "source": [
    "Since most of our data has already been scaled we should scale the columns that are left to scale (Amount and Time)"
   ]
  },
  {
   "cell_type": "code",
   "execution_count": 3,
   "metadata": {},
   "outputs": [],
   "source": [
    "# RobustScaler is less prone to outliers.\n",
    "\n",
    "scaler = RobustScaler()\n",
    "\n",
    "df['scaled_amount'] = scaler.fit_transform(df['Amount'].values.reshape(-1,1))\n",
    "df['scaled_time'] = scaler.fit_transform(df['Time'].values.reshape(-1,1))\n",
    "\n",
    "df.drop(['Time', 'Amount'], axis = 1, inplace = True)"
   ]
  },
  {
   "cell_type": "code",
   "execution_count": 4,
   "metadata": {},
   "outputs": [
    {
     "data": {
      "text/html": [
       "<div>\n",
       "<style scoped>\n",
       "    .dataframe tbody tr th:only-of-type {\n",
       "        vertical-align: middle;\n",
       "    }\n",
       "\n",
       "    .dataframe tbody tr th {\n",
       "        vertical-align: top;\n",
       "    }\n",
       "\n",
       "    .dataframe thead th {\n",
       "        text-align: right;\n",
       "    }\n",
       "</style>\n",
       "<table border=\"1\" class=\"dataframe\">\n",
       "  <thead>\n",
       "    <tr style=\"text-align: right;\">\n",
       "      <th></th>\n",
       "      <th>scaled_amount</th>\n",
       "      <th>scaled_time</th>\n",
       "      <th>V1</th>\n",
       "      <th>V2</th>\n",
       "      <th>V3</th>\n",
       "      <th>V4</th>\n",
       "      <th>V5</th>\n",
       "      <th>V6</th>\n",
       "      <th>V7</th>\n",
       "      <th>V8</th>\n",
       "      <th>...</th>\n",
       "      <th>V20</th>\n",
       "      <th>V21</th>\n",
       "      <th>V22</th>\n",
       "      <th>V23</th>\n",
       "      <th>V24</th>\n",
       "      <th>V25</th>\n",
       "      <th>V26</th>\n",
       "      <th>V27</th>\n",
       "      <th>V28</th>\n",
       "      <th>Class</th>\n",
       "    </tr>\n",
       "  </thead>\n",
       "  <tbody>\n",
       "    <tr>\n",
       "      <th>0</th>\n",
       "      <td>1.783274</td>\n",
       "      <td>-0.994983</td>\n",
       "      <td>-1.359807</td>\n",
       "      <td>-0.072781</td>\n",
       "      <td>2.536347</td>\n",
       "      <td>1.378155</td>\n",
       "      <td>-0.338321</td>\n",
       "      <td>0.462388</td>\n",
       "      <td>0.239599</td>\n",
       "      <td>0.098698</td>\n",
       "      <td>...</td>\n",
       "      <td>0.251412</td>\n",
       "      <td>-0.018307</td>\n",
       "      <td>0.277838</td>\n",
       "      <td>-0.110474</td>\n",
       "      <td>0.066928</td>\n",
       "      <td>0.128539</td>\n",
       "      <td>-0.189115</td>\n",
       "      <td>0.133558</td>\n",
       "      <td>-0.021053</td>\n",
       "      <td>0</td>\n",
       "    </tr>\n",
       "    <tr>\n",
       "      <th>1</th>\n",
       "      <td>-0.269825</td>\n",
       "      <td>-0.994983</td>\n",
       "      <td>1.191857</td>\n",
       "      <td>0.266151</td>\n",
       "      <td>0.166480</td>\n",
       "      <td>0.448154</td>\n",
       "      <td>0.060018</td>\n",
       "      <td>-0.082361</td>\n",
       "      <td>-0.078803</td>\n",
       "      <td>0.085102</td>\n",
       "      <td>...</td>\n",
       "      <td>-0.069083</td>\n",
       "      <td>-0.225775</td>\n",
       "      <td>-0.638672</td>\n",
       "      <td>0.101288</td>\n",
       "      <td>-0.339846</td>\n",
       "      <td>0.167170</td>\n",
       "      <td>0.125895</td>\n",
       "      <td>-0.008983</td>\n",
       "      <td>0.014724</td>\n",
       "      <td>0</td>\n",
       "    </tr>\n",
       "    <tr>\n",
       "      <th>2</th>\n",
       "      <td>4.983721</td>\n",
       "      <td>-0.994972</td>\n",
       "      <td>-1.358354</td>\n",
       "      <td>-1.340163</td>\n",
       "      <td>1.773209</td>\n",
       "      <td>0.379780</td>\n",
       "      <td>-0.503198</td>\n",
       "      <td>1.800499</td>\n",
       "      <td>0.791461</td>\n",
       "      <td>0.247676</td>\n",
       "      <td>...</td>\n",
       "      <td>0.524980</td>\n",
       "      <td>0.247998</td>\n",
       "      <td>0.771679</td>\n",
       "      <td>0.909412</td>\n",
       "      <td>-0.689281</td>\n",
       "      <td>-0.327642</td>\n",
       "      <td>-0.139097</td>\n",
       "      <td>-0.055353</td>\n",
       "      <td>-0.059752</td>\n",
       "      <td>0</td>\n",
       "    </tr>\n",
       "    <tr>\n",
       "      <th>3</th>\n",
       "      <td>1.418291</td>\n",
       "      <td>-0.994972</td>\n",
       "      <td>-0.966272</td>\n",
       "      <td>-0.185226</td>\n",
       "      <td>1.792993</td>\n",
       "      <td>-0.863291</td>\n",
       "      <td>-0.010309</td>\n",
       "      <td>1.247203</td>\n",
       "      <td>0.237609</td>\n",
       "      <td>0.377436</td>\n",
       "      <td>...</td>\n",
       "      <td>-0.208038</td>\n",
       "      <td>-0.108300</td>\n",
       "      <td>0.005274</td>\n",
       "      <td>-0.190321</td>\n",
       "      <td>-1.175575</td>\n",
       "      <td>0.647376</td>\n",
       "      <td>-0.221929</td>\n",
       "      <td>0.062723</td>\n",
       "      <td>0.061458</td>\n",
       "      <td>0</td>\n",
       "    </tr>\n",
       "    <tr>\n",
       "      <th>4</th>\n",
       "      <td>0.670579</td>\n",
       "      <td>-0.994960</td>\n",
       "      <td>-1.158233</td>\n",
       "      <td>0.877737</td>\n",
       "      <td>1.548718</td>\n",
       "      <td>0.403034</td>\n",
       "      <td>-0.407193</td>\n",
       "      <td>0.095921</td>\n",
       "      <td>0.592941</td>\n",
       "      <td>-0.270533</td>\n",
       "      <td>...</td>\n",
       "      <td>0.408542</td>\n",
       "      <td>-0.009431</td>\n",
       "      <td>0.798278</td>\n",
       "      <td>-0.137458</td>\n",
       "      <td>0.141267</td>\n",
       "      <td>-0.206010</td>\n",
       "      <td>0.502292</td>\n",
       "      <td>0.219422</td>\n",
       "      <td>0.215153</td>\n",
       "      <td>0</td>\n",
       "    </tr>\n",
       "  </tbody>\n",
       "</table>\n",
       "<p>5 rows × 31 columns</p>\n",
       "</div>"
      ],
      "text/plain": [
       "   scaled_amount  scaled_time        V1        V2        V3        V4  \\\n",
       "0       1.783274    -0.994983 -1.359807 -0.072781  2.536347  1.378155   \n",
       "1      -0.269825    -0.994983  1.191857  0.266151  0.166480  0.448154   \n",
       "2       4.983721    -0.994972 -1.358354 -1.340163  1.773209  0.379780   \n",
       "3       1.418291    -0.994972 -0.966272 -0.185226  1.792993 -0.863291   \n",
       "4       0.670579    -0.994960 -1.158233  0.877737  1.548718  0.403034   \n",
       "\n",
       "         V5        V6        V7        V8  ...       V20       V21       V22  \\\n",
       "0 -0.338321  0.462388  0.239599  0.098698  ...  0.251412 -0.018307  0.277838   \n",
       "1  0.060018 -0.082361 -0.078803  0.085102  ... -0.069083 -0.225775 -0.638672   \n",
       "2 -0.503198  1.800499  0.791461  0.247676  ...  0.524980  0.247998  0.771679   \n",
       "3 -0.010309  1.247203  0.237609  0.377436  ... -0.208038 -0.108300  0.005274   \n",
       "4 -0.407193  0.095921  0.592941 -0.270533  ...  0.408542 -0.009431  0.798278   \n",
       "\n",
       "        V23       V24       V25       V26       V27       V28  Class  \n",
       "0 -0.110474  0.066928  0.128539 -0.189115  0.133558 -0.021053      0  \n",
       "1  0.101288 -0.339846  0.167170  0.125895 -0.008983  0.014724      0  \n",
       "2  0.909412 -0.689281 -0.327642 -0.139097 -0.055353 -0.059752      0  \n",
       "3 -0.190321 -1.175575  0.647376 -0.221929  0.062723  0.061458      0  \n",
       "4 -0.137458  0.141267 -0.206010  0.502292  0.219422  0.215153      0  \n",
       "\n",
       "[5 rows x 31 columns]"
      ]
     },
     "execution_count": 4,
     "metadata": {},
     "output_type": "execute_result"
    }
   ],
   "source": [
    "scaled_amount = df['scaled_amount']\n",
    "scaled_time = df['scaled_time']\n",
    "\n",
    "df.drop(['scaled_amount', 'scaled_time'], axis=1, inplace=True)\n",
    "df.insert(0, 'scaled_amount', scaled_amount)\n",
    "df.insert(1, 'scaled_time', scaled_time)\n",
    "\n",
    "# Amount and Time are Scaled!\n",
    "\n",
    "df.head()"
   ]
  },
  {
   "cell_type": "markdown",
   "metadata": {},
   "source": [
    "Let's split our data for later (for the part with SMOTE) :"
   ]
  },
  {
   "cell_type": "code",
   "execution_count": 5,
   "metadata": {},
   "outputs": [],
   "source": [
    "X = df.drop('Class', axis=1)\n",
    "y = df['Class']\n",
    "\n",
    "sss = StratifiedKFold(n_splits=5, random_state=None, shuffle=False)\n",
    "\n",
    "for train_index, test_index in sss.split(X, y):\n",
    "    original_Xtrain, original_Xtest = X.iloc[train_index], X.iloc[test_index]\n",
    "    original_ytrain, original_ytest = y.iloc[train_index], y.iloc[test_index]\n",
    "\n",
    "# Turn into an array\n",
    "original_Xtrain = original_Xtrain.values\n",
    "original_Xtest = original_Xtest.values\n",
    "original_ytrain = original_ytrain.values\n",
    "original_ytest = original_ytest.values"
   ]
  },
  {
   "cell_type": "code",
   "execution_count": 6,
   "metadata": {},
   "outputs": [
    {
     "name": "stdout",
     "output_type": "stream",
     "text": [
      "(227846, 30)\n",
      "(56961, 30)\n",
      "(227846,)\n",
      "(56961,)\n"
     ]
    }
   ],
   "source": [
    "print(original_Xtrain.shape)\n",
    "print(original_Xtest.shape)\n",
    "print(original_ytrain.shape)\n",
    "print(original_ytest.shape)"
   ]
  },
  {
   "cell_type": "markdown",
   "metadata": {},
   "source": [
    "<a id=\"4\"></a> <br>\n",
    "## Random Under-Sampling \n",
    "\n",
    "The main issue with \"Random Under-Sampling\" is that we run the risk that our classification models will not perform as accurate as we would like to since there is a great deal of information loss (bringing 492 non-fraud transaction from 284,315 non-fraud transaction).\n",
    "\n",
    "Since our classes are highly skewed we should make them equivalent in order to have a normal distribution of the classes. Lets shuffle the data before creating the subsamples"
   ]
  },
  {
   "cell_type": "code",
   "execution_count": 7,
   "metadata": {},
   "outputs": [],
   "source": [
    "df = df.sample(frac=1)"
   ]
  },
  {
   "cell_type": "code",
   "execution_count": 8,
   "metadata": {},
   "outputs": [
    {
     "data": {
      "text/html": [
       "<div>\n",
       "<style scoped>\n",
       "    .dataframe tbody tr th:only-of-type {\n",
       "        vertical-align: middle;\n",
       "    }\n",
       "\n",
       "    .dataframe tbody tr th {\n",
       "        vertical-align: top;\n",
       "    }\n",
       "\n",
       "    .dataframe thead th {\n",
       "        text-align: right;\n",
       "    }\n",
       "</style>\n",
       "<table border=\"1\" class=\"dataframe\">\n",
       "  <thead>\n",
       "    <tr style=\"text-align: right;\">\n",
       "      <th></th>\n",
       "      <th>scaled_amount</th>\n",
       "      <th>scaled_time</th>\n",
       "      <th>V1</th>\n",
       "      <th>V2</th>\n",
       "      <th>V3</th>\n",
       "      <th>V4</th>\n",
       "      <th>V5</th>\n",
       "      <th>V6</th>\n",
       "      <th>V7</th>\n",
       "      <th>V8</th>\n",
       "      <th>...</th>\n",
       "      <th>V20</th>\n",
       "      <th>V21</th>\n",
       "      <th>V22</th>\n",
       "      <th>V23</th>\n",
       "      <th>V24</th>\n",
       "      <th>V25</th>\n",
       "      <th>V26</th>\n",
       "      <th>V27</th>\n",
       "      <th>V28</th>\n",
       "      <th>Class</th>\n",
       "    </tr>\n",
       "  </thead>\n",
       "  <tbody>\n",
       "    <tr>\n",
       "      <th>48511</th>\n",
       "      <td>8.868860</td>\n",
       "      <td>-0.481843</td>\n",
       "      <td>-1.363320</td>\n",
       "      <td>-1.106436</td>\n",
       "      <td>0.480856</td>\n",
       "      <td>-0.249311</td>\n",
       "      <td>-1.972768</td>\n",
       "      <td>-0.032278</td>\n",
       "      <td>2.869187</td>\n",
       "      <td>-0.364403</td>\n",
       "      <td>...</td>\n",
       "      <td>1.410398</td>\n",
       "      <td>0.479850</td>\n",
       "      <td>0.203732</td>\n",
       "      <td>1.336057</td>\n",
       "      <td>0.376085</td>\n",
       "      <td>0.169504</td>\n",
       "      <td>1.041418</td>\n",
       "      <td>-0.265370</td>\n",
       "      <td>0.088201</td>\n",
       "      <td>0</td>\n",
       "    </tr>\n",
       "    <tr>\n",
       "      <th>147605</th>\n",
       "      <td>-0.178719</td>\n",
       "      <td>0.047522</td>\n",
       "      <td>1.917827</td>\n",
       "      <td>0.951967</td>\n",
       "      <td>-2.059206</td>\n",
       "      <td>3.833998</td>\n",
       "      <td>1.668192</td>\n",
       "      <td>0.769826</td>\n",
       "      <td>0.232463</td>\n",
       "      <td>0.107941</td>\n",
       "      <td>...</td>\n",
       "      <td>-0.115922</td>\n",
       "      <td>0.015255</td>\n",
       "      <td>0.239994</td>\n",
       "      <td>-0.111916</td>\n",
       "      <td>-0.380576</td>\n",
       "      <td>0.370995</td>\n",
       "      <td>0.189117</td>\n",
       "      <td>-0.005823</td>\n",
       "      <td>-0.012105</td>\n",
       "      <td>1</td>\n",
       "    </tr>\n",
       "    <tr>\n",
       "      <th>162347</th>\n",
       "      <td>-0.269825</td>\n",
       "      <td>0.356489</td>\n",
       "      <td>0.146978</td>\n",
       "      <td>1.070401</td>\n",
       "      <td>-0.441586</td>\n",
       "      <td>-0.583173</td>\n",
       "      <td>1.055385</td>\n",
       "      <td>-0.672665</td>\n",
       "      <td>0.997873</td>\n",
       "      <td>-0.112035</td>\n",
       "      <td>...</td>\n",
       "      <td>0.054450</td>\n",
       "      <td>-0.336911</td>\n",
       "      <td>-0.783379</td>\n",
       "      <td>0.079143</td>\n",
       "      <td>0.430056</td>\n",
       "      <td>-0.399726</td>\n",
       "      <td>0.122698</td>\n",
       "      <td>0.229495</td>\n",
       "      <td>0.083878</td>\n",
       "      <td>0</td>\n",
       "    </tr>\n",
       "    <tr>\n",
       "      <th>281144</th>\n",
       "      <td>3.116048</td>\n",
       "      <td>1.001821</td>\n",
       "      <td>-3.113832</td>\n",
       "      <td>0.585864</td>\n",
       "      <td>-5.399730</td>\n",
       "      <td>1.817092</td>\n",
       "      <td>-0.840618</td>\n",
       "      <td>-2.943548</td>\n",
       "      <td>-2.208002</td>\n",
       "      <td>1.058733</td>\n",
       "      <td>...</td>\n",
       "      <td>0.306271</td>\n",
       "      <td>0.583276</td>\n",
       "      <td>-0.269209</td>\n",
       "      <td>-0.456108</td>\n",
       "      <td>-0.183659</td>\n",
       "      <td>-0.328168</td>\n",
       "      <td>0.606116</td>\n",
       "      <td>0.884876</td>\n",
       "      <td>-0.253700</td>\n",
       "      <td>1</td>\n",
       "    </tr>\n",
       "    <tr>\n",
       "      <th>191359</th>\n",
       "      <td>-0.239363</td>\n",
       "      <td>0.523150</td>\n",
       "      <td>1.177824</td>\n",
       "      <td>2.487103</td>\n",
       "      <td>-5.330608</td>\n",
       "      <td>5.324547</td>\n",
       "      <td>1.150243</td>\n",
       "      <td>-1.281843</td>\n",
       "      <td>-1.171994</td>\n",
       "      <td>0.413778</td>\n",
       "      <td>...</td>\n",
       "      <td>0.156057</td>\n",
       "      <td>0.262325</td>\n",
       "      <td>-0.431790</td>\n",
       "      <td>-0.092088</td>\n",
       "      <td>0.145216</td>\n",
       "      <td>0.457788</td>\n",
       "      <td>0.167739</td>\n",
       "      <td>0.451243</td>\n",
       "      <td>0.268421</td>\n",
       "      <td>1</td>\n",
       "    </tr>\n",
       "  </tbody>\n",
       "</table>\n",
       "<p>5 rows × 31 columns</p>\n",
       "</div>"
      ],
      "text/plain": [
       "        scaled_amount  scaled_time        V1        V2        V3        V4  \\\n",
       "48511        8.868860    -0.481843 -1.363320 -1.106436  0.480856 -0.249311   \n",
       "147605      -0.178719     0.047522  1.917827  0.951967 -2.059206  3.833998   \n",
       "162347      -0.269825     0.356489  0.146978  1.070401 -0.441586 -0.583173   \n",
       "281144       3.116048     1.001821 -3.113832  0.585864 -5.399730  1.817092   \n",
       "191359      -0.239363     0.523150  1.177824  2.487103 -5.330608  5.324547   \n",
       "\n",
       "              V5        V6        V7        V8  ...       V20       V21  \\\n",
       "48511  -1.972768 -0.032278  2.869187 -0.364403  ...  1.410398  0.479850   \n",
       "147605  1.668192  0.769826  0.232463  0.107941  ... -0.115922  0.015255   \n",
       "162347  1.055385 -0.672665  0.997873 -0.112035  ...  0.054450 -0.336911   \n",
       "281144 -0.840618 -2.943548 -2.208002  1.058733  ...  0.306271  0.583276   \n",
       "191359  1.150243 -1.281843 -1.171994  0.413778  ...  0.156057  0.262325   \n",
       "\n",
       "             V22       V23       V24       V25       V26       V27       V28  \\\n",
       "48511   0.203732  1.336057  0.376085  0.169504  1.041418 -0.265370  0.088201   \n",
       "147605  0.239994 -0.111916 -0.380576  0.370995  0.189117 -0.005823 -0.012105   \n",
       "162347 -0.783379  0.079143  0.430056 -0.399726  0.122698  0.229495  0.083878   \n",
       "281144 -0.269209 -0.456108 -0.183659 -0.328168  0.606116  0.884876 -0.253700   \n",
       "191359 -0.431790 -0.092088  0.145216  0.457788  0.167739  0.451243  0.268421   \n",
       "\n",
       "        Class  \n",
       "48511       0  \n",
       "147605      1  \n",
       "162347      0  \n",
       "281144      1  \n",
       "191359      1  \n",
       "\n",
       "[5 rows x 31 columns]"
      ]
     },
     "execution_count": 8,
     "metadata": {},
     "output_type": "execute_result"
    }
   ],
   "source": [
    "fraud_df = df[df['Class'] == 1]\n",
    "no_fraud_df = df[df['Class'] == 0][:492]\n",
    "\n",
    "new_data = pd.concat([fraud_df, no_fraud_df])\n",
    "\n",
    "new_df = new_data.sample(frac=1, random_state = 42)\n",
    "\n",
    "new_df.head()"
   ]
  },
  {
   "cell_type": "code",
   "execution_count": 9,
   "metadata": {},
   "outputs": [
    {
     "data": {
      "text/plain": [
       "1    492\n",
       "0    492\n",
       "Name: Class, dtype: int64"
      ]
     },
     "execution_count": 9,
     "metadata": {},
     "output_type": "execute_result"
    }
   ],
   "source": [
    "new_df['Class'].value_counts()"
   ]
  },
  {
   "cell_type": "markdown",
   "metadata": {},
   "source": [
    "Great !"
   ]
  },
  {
   "cell_type": "markdown",
   "metadata": {},
   "source": [
    "Now that we have our dataframe correctly balanced, we can go further with our analysis and data preprocessing."
   ]
  },
  {
   "cell_type": "markdown",
   "metadata": {},
   "source": [
    "<a id=\"5\"></a> <br>\n",
    "## Correlations and outliers\n",
    "\n",
    "Let's first check the correlations matrices. Correlation matrices are the essence of understanding our data. We want to know if there are features that influence heavily in whether a specific transaction is a fraud. However, it is important that we use the correct dataframe (subsample) in order for us to see which features have a high positive or negative correlation with regards to fraud transactions."
   ]
  },
  {
   "cell_type": "code",
   "execution_count": 177,
   "metadata": {},
   "outputs": [
    {
     "data": {
      "image/png": "[encoded data removed]",
      "text/plain": [
       "<Figure size 1728x1440 with 4 Axes>"
      ]
     },
     "metadata": {
      "needs_background": "light"
     },
     "output_type": "display_data"
    }
   ],
   "source": [
    "f, (ax1, ax2) = plt.subplots(2, 1, figsize=(24,20))\n",
    "\n",
    "# Entire DataFrame\n",
    "corr = df.corr()\n",
    "sns.heatmap(corr, cmap='coolwarm_r', annot_kws={'size':20}, ax=ax1)\n",
    "ax1.set_title(\"Imbalanced Correlation Matrix \\n (don't use for reference)\", fontsize=14)\n",
    "\n",
    "\n",
    "sub_sample_corr = new_df.corr()\n",
    "sns.heatmap(sub_sample_corr, cmap='coolwarm_r', annot_kws={'size':20}, ax=ax2)\n",
    "ax2.set_title('SubSample Correlation Matrix \\n (use for reference)', fontsize=14)\n",
    "plt.show()"
   ]
  },
  {
   "cell_type": "markdown",
   "metadata": {},
   "source": [
    "- `V17`, `V14`, `V12` and `V10` are negatively correlated. Notice how the lower these values are, the more likely the end result will be a fraud transaction.\n",
    "\n",
    "\n",
    "- `V2`, `V4`, `V11`, and `V19` are positively correlated. Notice how the higher these values are, the more likely the end result will be a fraud transaction."
   ]
  },
  {
   "cell_type": "markdown",
   "metadata": {},
   "source": [
    "Let's analyse those variable more in depth with boxplot"
   ]
  },
  {
   "cell_type": "code",
   "execution_count": 178,
   "metadata": {},
   "outputs": [
    {
     "data": {
      "image/png": "[encoded data removed]",
      "text/plain": [
       "<Figure size 1080x576 with 4 Axes>"
      ]
     },
     "metadata": {
      "needs_background": "light"
     },
     "output_type": "display_data"
    }
   ],
   "source": [
    "f, axes = plt.subplots(ncols = 2, nrows = 2, figsize = (15,8))\n",
    "\n",
    "sns.boxplot(x = 'Class', y = 'V17', data = new_df, ax = axes[0][0])\n",
    "axes[0][0].set_title('V17 vs Class negative correlation')\n",
    "\n",
    "sns.boxplot(x = 'Class', y = 'V14', data = new_df, ax = axes[0][1])\n",
    "axes[0][1].set_title('V14 vs Class negative correlation')\n",
    "\n",
    "sns.boxplot(x = 'Class', y = 'V12', data = new_df, ax = axes[1][0])\n",
    "axes[1][0].set_title('V12 vs Class negative correlation')\n",
    "\n",
    "sns.boxplot(x = 'Class', y = 'V10', data = new_df, ax = axes[1][1])\n",
    "axes[1][1].set_title('V10 vs Class negative correlation')\n",
    "\n",
    "plt.show()"
   ]
  },
  {
   "cell_type": "code",
   "execution_count": 179,
   "metadata": {},
   "outputs": [
    {
     "data": {
      "image/png": "[encoded data removed]",
      "text/plain": [
       "<Figure size 1080x576 with 4 Axes>"
      ]
     },
     "metadata": {
      "needs_background": "light"
     },
     "output_type": "display_data"
    }
   ],
   "source": [
    "f, axes = plt.subplots(ncols = 2, nrows = 2, figsize = (15,8))\n",
    "\n",
    "sns.boxplot(x = 'Class', y = 'V2', data = new_df, ax = axes[0][0])\n",
    "axes[0][0].set_title('V2 vs Class positive correlation')\n",
    "\n",
    "sns.boxplot(x = 'Class', y = 'V4', data = new_df, ax = axes[0][1])\n",
    "axes[0][1].set_title('V4 vs Class positive correlation')\n",
    "\n",
    "sns.boxplot(x = 'Class', y = 'V11', data = new_df, ax = axes[1][0])\n",
    "axes[1][0].set_title('V11 vs Class positive correlation')\n",
    "\n",
    "sns.boxplot(x = 'Class', y = 'V19', data = new_df, ax = axes[1][1])\n",
    "axes[1][1].set_title('V19 vs Class positive correlation')\n",
    "\n",
    "plt.show()"
   ]
  },
  {
   "cell_type": "markdown",
   "metadata": {},
   "source": [
    "Our main aim in this section is to remove \"extreme outliers\" from features that have a high correlation with our classes. This will have a positive impact on the accuracy of our models."
   ]
  },
  {
   "cell_type": "markdown",
   "metadata": {},
   "source": [
    "We have to be careful as to how far do we want the threshold for removing outliers. We determine the threshold by multiplying a number (ex: 1.5) by the \"Interquartile Range\" (difference between the 75th percentile and 25th percentile). The higher this threshold is, the less outliers will detect (multiplying by a higher number ex: 3), and the lower this threshold is the more outliers it will detect.\n",
    "\n",
    "*The Tradeoff*: The lower the threshold the more outliers it will remove however, we want to focus more on \"extreme outliers\" rather than just outliers. Why? because we might run the risk of information loss which will cause our models to have a lower accuracy. You can play with this threshold and see how it affects the accuracy of our classification models."
   ]
  },
  {
   "cell_type": "markdown",
   "metadata": {},
   "source": [
    "Let's remove the outlier carefully !"
   ]
  },
  {
   "cell_type": "markdown",
   "metadata": {},
   "source": [
    "**V14**"
   ]
  },
  {
   "cell_type": "code",
   "execution_count": 10,
   "metadata": {},
   "outputs": [
    {
     "name": "stdout",
     "output_type": "stream",
     "text": [
      "Quartile 25 : -9.692722964972385 | Quartile 75 : -4.282820849486866\n",
      "\n",
      "iqr : 5.409902115485519\n",
      "\n",
      "Cut Off: 8.114853173228278\n",
      "\n",
      "V14 Lower: -17.807576138200663\n",
      "\n",
      "V14 Upper: 3.8320323237414122\n",
      "\n",
      "Number of outliers for the variable V14 : 4\n"
     ]
    }
   ],
   "source": [
    "v14_fraud = new_df.loc[new_df['Class'] == 1, 'V14'].values\n",
    "\n",
    "q25, q75 = np.percentile(v14_fraud, 25), np.percentile(v14_fraud, 75)\n",
    "\n",
    "print('Quartile 25 : {} | Quartile 75 : {}'.format(q25, q75))\n",
    "\n",
    "v14_iqr = q75 - q25\n",
    "\n",
    "print('\\niqr :', v14_iqr)\n",
    "\n",
    "v14_cut_off = v14_iqr * 1.5\n",
    "v14_lower, v14_upper = q25 - v14_cut_off, q75 + v14_cut_off\n",
    "print('\\nCut Off: {}'.format(v14_cut_off))\n",
    "print('\\nV14 Lower: {}'.format(v14_lower))\n",
    "print('\\nV14 Upper: {}'.format(v14_upper))\n",
    "\n",
    "outliers = [x for x in v14_fraud if x < v14_lower or x > v14_upper]\n",
    "\n",
    "print('\\nNumber of outliers for the variable V14 :', len(outliers))\n",
    "\n",
    "new_df = new_df.drop(new_df[(new_df['V14'] > v14_upper) | (new_df['V14'] < v14_lower)].index)"
   ]
  },
  {
   "cell_type": "markdown",
   "metadata": {},
   "source": [
    "To gain some time, let's create a function to remove the outliers like above. "
   ]
  },
  {
   "cell_type": "code",
   "execution_count": 11,
   "metadata": {},
   "outputs": [],
   "source": [
    "def remove_outliers(variable, df):\n",
    "    \n",
    "    var_fraud = df.loc[df['Class'] == 1, variable].values\n",
    "\n",
    "    q25, q75 = np.percentile(var_fraud, 25), np.percentile(var_fraud, 75)\n",
    "\n",
    "    print('Quartile 25 : {} | Quartile 75 : {}'.format(q25, q75))\n",
    "\n",
    "    var_iqr = q75 - q25\n",
    "\n",
    "    print('\\niqr :', var_iqr)\n",
    "\n",
    "    var_cut_off = var_iqr * 1.5\n",
    "    var_lower, var_upper = q25 - var_cut_off, q75 + var_cut_off\n",
    "    print('\\nCut Off: {}'.format(var_cut_off))\n",
    "    print('\\nV14 Lower: {}'.format(var_lower))\n",
    "    print('\\nV14 Upper: {}'.format(var_upper))\n",
    "\n",
    "    outliers = [x for x in var_fraud if x < var_lower or x > var_upper]\n",
    "\n",
    "    print('\\nNumber of outliers for the variable  :', len(outliers))\n",
    "\n",
    "    df = df.drop(df[(df[variable] > var_upper) | (df[variable] < var_lower)].index)\n",
    "    \n",
    "    return df"
   ]
  },
  {
   "cell_type": "markdown",
   "metadata": {},
   "source": [
    "**V12**"
   ]
  },
  {
   "cell_type": "code",
   "execution_count": 12,
   "metadata": {},
   "outputs": [
    {
     "name": "stdout",
     "output_type": "stream",
     "text": [
      "Quartile 25 : -8.67303320439115 | Quartile 75 : -2.893030568676315\n",
      "\n",
      "iqr : 5.780002635714835\n",
      "\n",
      "Cut Off: 8.670003953572252\n",
      "\n",
      "V14 Lower: -17.3430371579634\n",
      "\n",
      "V14 Upper: 5.776973384895937\n",
      "\n",
      "Number of outliers for the variable  : 4\n"
     ]
    }
   ],
   "source": [
    "new_df2 = remove_outliers('V12', new_df)"
   ]
  },
  {
   "cell_type": "markdown",
   "metadata": {},
   "source": [
    "**V11**"
   ]
  },
  {
   "cell_type": "code",
   "execution_count": 13,
   "metadata": {},
   "outputs": [
    {
     "name": "stdout",
     "output_type": "stream",
     "text": [
      "Quartile 25 : 1.9620472137916574 | Quartile 75 : 5.20664237764091\n",
      "\n",
      "iqr : 3.2445951638492527\n",
      "\n",
      "Cut Off: 4.866892745773879\n",
      "\n",
      "V14 Lower: -2.9048455319822217\n",
      "\n",
      "V14 Upper: 10.07353512341479\n",
      "\n",
      "Number of outliers for the variable  : 8\n"
     ]
    }
   ],
   "source": [
    "new_df3 = remove_outliers('V11', new_df2)"
   ]
  },
  {
   "cell_type": "markdown",
   "metadata": {},
   "source": [
    "**V2**"
   ]
  },
  {
   "cell_type": "code",
   "execution_count": 14,
   "metadata": {},
   "outputs": [
    {
     "name": "stdout",
     "output_type": "stream",
     "text": [
      "Quartile 25 : 1.1536685808488225 | Quartile 75 : 4.570172224572338\n",
      "\n",
      "iqr : 3.4165036437235154\n",
      "\n",
      "Cut Off: 5.124755465585273\n",
      "\n",
      "V14 Lower: -3.9710868847364504\n",
      "\n",
      "V14 Upper: 9.694927690157611\n",
      "\n",
      "Number of outliers for the variable  : 52\n"
     ]
    }
   ],
   "source": [
    "new_df4 = remove_outliers('V2', new_df3)"
   ]
  },
  {
   "cell_type": "markdown",
   "metadata": {},
   "source": [
    "**V19**"
   ]
  },
  {
   "cell_type": "code",
   "execution_count": 15,
   "metadata": {},
   "outputs": [
    {
     "name": "stdout",
     "output_type": "stream",
     "text": [
      "Quartile 25 : -0.44563692232515 | Quartile 75 : 1.74628318636648\n",
      "\n",
      "iqr : 2.19192010869163\n",
      "\n",
      "Cut Off: 3.2878801630374452\n",
      "\n",
      "V14 Lower: -3.733517085362595\n",
      "\n",
      "V14 Upper: 5.034163349403926\n",
      "\n",
      "Number of outliers for the variable  : 1\n"
     ]
    }
   ],
   "source": [
    "new_df5 = remove_outliers('V19', new_df4)"
   ]
  },
  {
   "cell_type": "markdown",
   "metadata": {},
   "source": [
    "**V10**"
   ]
  },
  {
   "cell_type": "code",
   "execution_count": 16,
   "metadata": {},
   "outputs": [
    {
     "name": "stdout",
     "output_type": "stream",
     "text": [
      "Quartile 25 : -6.253474349781204 | Quartile 75 : -2.24359071750455\n",
      "\n",
      "iqr : 4.009883632276654\n",
      "\n",
      "Cut Off: 6.01482544841498\n",
      "\n",
      "V14 Lower: -12.268299798196184\n",
      "\n",
      "V14 Upper: 3.7712347309104297\n",
      "\n",
      "Number of outliers for the variable  : 42\n"
     ]
    }
   ],
   "source": [
    "new_df6 = remove_outliers('V10', new_df5)"
   ]
  },
  {
   "cell_type": "markdown",
   "metadata": {},
   "source": [
    "**V17**"
   ]
  },
  {
   "cell_type": "code",
   "execution_count": 17,
   "metadata": {},
   "outputs": [
    {
     "name": "stdout",
     "output_type": "stream",
     "text": [
      "Quartile 25 : -7.17167241498026 | Quartile 75 : -0.0524194348357059\n",
      "\n",
      "iqr : 7.119252980144554\n",
      "\n",
      "Cut Off: 10.678879470216831\n",
      "\n",
      "V14 Lower: -17.850551885197092\n",
      "\n",
      "V14 Upper: 10.626460035381125\n",
      "\n",
      "Number of outliers for the variable  : 9\n"
     ]
    }
   ],
   "source": [
    "new_df7 = remove_outliers('V17', new_df6)"
   ]
  },
  {
   "cell_type": "markdown",
   "metadata": {},
   "source": [
    "**V4**"
   ]
  },
  {
   "cell_type": "code",
   "execution_count": 18,
   "metadata": {},
   "outputs": [
    {
     "name": "stdout",
     "output_type": "stream",
     "text": [
      "Quartile 25 : 1.9973975949141598 | Quartile 75 : 5.175484518182389\n",
      "\n",
      "iqr : 3.1780869232682294\n",
      "\n",
      "Cut Off: 4.7671303849023445\n",
      "\n",
      "V14 Lower: -2.7697327899881845\n",
      "\n",
      "V14 Upper: 9.942614903084735\n",
      "\n",
      "Number of outliers for the variable  : 0\n"
     ]
    }
   ],
   "source": [
    "new_df8 = remove_outliers('V4', new_df7)"
   ]
  },
  {
   "cell_type": "code",
   "execution_count": 19,
   "metadata": {},
   "outputs": [
    {
     "name": "stdout",
     "output_type": "stream",
     "text": [
      "Size of the dataset with outliers removed : 841\n"
     ]
    }
   ],
   "source": [
    "print('Size of the dataset with outliers removed :', len(new_df8))"
   ]
  },
  {
   "cell_type": "code",
   "execution_count": 20,
   "metadata": {},
   "outputs": [],
   "source": [
    "new_df = new_df8"
   ]
  },
  {
   "cell_type": "markdown",
   "metadata": {},
   "source": [
    "<a id=\"6\"></a> <br>\n",
    "## Dimensionality Reduction and Clustering:\n",
    "\n",
    "Those kind of methods allow us to visualize multi dimension ( number of variable > 2), here 30) more easily. Therefore, to see if the two labels (fraud/no fraud) could be easily distinguish."
   ]
  },
  {
   "cell_type": "code",
   "execution_count": 21,
   "metadata": {},
   "outputs": [],
   "source": [
    "X = new_df.drop('Class', axis = 1)\n",
    "y = new_df.Class"
   ]
  },
  {
   "cell_type": "code",
   "execution_count": 205,
   "metadata": {},
   "outputs": [
    {
     "name": "stdout",
     "output_type": "stream",
     "text": [
      "TSNE took 5.4 s\n",
      "PCA took 0.0055 s\n",
      "SVD took 0.0056 s\n"
     ]
    }
   ],
   "source": [
    "t0 = time.time()\n",
    "X_tsne = TSNE(n_components = 2, random_state = 42).fit_transform(X.values)\n",
    "t1 = time.time()\n",
    "print('TSNE took {:.2} s'.format(t1 - t0))\n",
    "\n",
    "t0 = time.time()\n",
    "X_PCA = PCA(n_components = 2, random_state = 42).fit_transform(X.values)\n",
    "t1 = time.time()\n",
    "print('PCA took {:.2} s'.format(t1 - t0))\n",
    "\n",
    "t0 = time.time()\n",
    "X_SVD = TruncatedSVD(n_components = 2, algorithm='randomized', random_state = 42).fit_transform(X.values)\n",
    "t1 = time.time()\n",
    "print('SVD took {:.2} s'.format(t1 - t0))"
   ]
  },
  {
   "cell_type": "code",
   "execution_count": 211,
   "metadata": {},
   "outputs": [
    {
     "data": {
      "image/png": "[encoded data removed]",
      "text/plain": [
       "<Figure size 720x1080 with 3 Axes>"
      ]
     },
     "metadata": {
      "needs_background": "light"
     },
     "output_type": "display_data"
    }
   ],
   "source": [
    "f, (ax1, ax2, ax3) = plt.subplots(3, 1, figsize=(10,15))\n",
    "# labels = ['No Fraud', 'Fraud']\n",
    "f.suptitle('Clusters using Dimensionality Reduction', fontsize=14)\n",
    "\n",
    "\n",
    "blue_patch = mpatches.Patch(color='#0A0AFF', label='No Fraud')\n",
    "red_patch = mpatches.Patch(color='#AF0000', label='Fraud')\n",
    "\n",
    "\n",
    "# t-SNE scatter plot\n",
    "ax1.scatter(X_tsne[:,0], X_tsne[:,1], c=(y == 0), cmap='coolwarm', label='No Fraud', linewidths=2)\n",
    "ax1.scatter(X_tsne[:,0], X_tsne[:,1], c=(y == 1), cmap='coolwarm', label='Fraud', linewidths=2)\n",
    "ax1.set_title('t-SNE', fontsize=14)\n",
    "\n",
    "ax1.grid(True)\n",
    "\n",
    "ax1.legend(handles=[blue_patch, red_patch])\n",
    "\n",
    "\n",
    "# PCA scatter plot\n",
    "ax2.scatter(X_PCA[:,0], X_PCA[:,1], c=(y == 0), cmap='coolwarm', label='No Fraud', linewidths=2)\n",
    "ax2.scatter(X_PCA[:,0], X_PCA[:,1], c=(y == 1), cmap='coolwarm', label='Fraud', linewidths=2)\n",
    "ax2.set_title('PCA', fontsize=14)\n",
    "\n",
    "ax2.grid(True)\n",
    "\n",
    "ax2.legend(handles=[blue_patch, red_patch])\n",
    "\n",
    "# TruncatedSVD scatter plot\n",
    "ax3.scatter(X_SVD[:,0], X_SVD[:,1], c=(y == 0), cmap='coolwarm', label='No Fraud', linewidths=2)\n",
    "ax3.scatter(X_SVD[:,0], X_SVD[:,1], c=(y == 1), cmap='coolwarm', label='Fraud', linewidths=2)\n",
    "ax3.set_title('Truncated SVD', fontsize=14)\n",
    "\n",
    "ax3.grid(True)\n",
    "\n",
    "ax3.legend(handles=[blue_patch, red_patch])\n",
    "\n",
    "plt.show()"
   ]
  },
  {
   "cell_type": "markdown",
   "metadata": {},
   "source": [
    "t-SNE algorithm can pretty accurately cluster the cases that were fraud and non-fraud in our dataset. Although the subsample is pretty small, the t-SNE algorithm is able to detect clusters pretty accurately in every scenario (I shuffle the dataset before running t-SNE). This gives us an indication that further predictive models will perform pretty well in separating fraud cases from non-fraud cases."
   ]
  },
  {
   "cell_type": "markdown",
   "metadata": {},
   "source": [
    "<a id=\"7\"></a> <br>\n",
    "## Modeling with Undersampling\n",
    "\n",
    "/!\\ *IMPORTANT NOTE* /!\\\n",
    "\n",
    "Before we go on, I need to mention a very interesting point that I discover recently, I mentionned it earlier in the introduction :\n",
    "\n",
    "*Cross Validation Overfitting Mistake*\n",
    "\n",
    "If you want to undersample or oversample your data you should not do it before cross validating. Why because you will be directly influencing the validation set before implementing cross-validation causing a \"data leakage\" problem. In the following section you will see amazing precision and recall scores but in reality our data is overfitting! \n",
    "\n",
    "If we get the minority class (\"Fraud) in our case, and create the synthetic points before cross validating we have a certain influence on the \"validation set\" of the cross validation process. Remember how cross validation works, let's assume we are splitting the data into 5 batches, 4/5 of the dataset will be the training set while 1/5 will be the validation set. The test set should not be touched! For that reason, we have to do the creation of synthetic datapoints \"during\" cross-validation and not before\n",
    "\n",
    "For good measure I will show the undersampling before cross-validation and the undersampling during cross validation\n",
    "\n",
    "**Undersampling before cross validation (prone to overfit)**"
   ]
  },
  {
   "cell_type": "code",
   "execution_count": 22,
   "metadata": {},
   "outputs": [],
   "source": [
    "X = new_df.drop('Class', axis=1)\n",
    "y = new_df['Class']"
   ]
  },
  {
   "cell_type": "code",
   "execution_count": 23,
   "metadata": {},
   "outputs": [],
   "source": [
    "# Our data is already scaled we should split our training and test sets\n",
    "\n",
    "X_train, X_test, y_train, y_test = train_test_split(X, y, test_size=0.2, random_state=42)"
   ]
  },
  {
   "cell_type": "code",
   "execution_count": 24,
   "metadata": {},
   "outputs": [],
   "source": [
    "# Turn the values into an array for feeding the classification algorithms.\n",
    "X_train = X_train.values\n",
    "X_test = X_test.values\n",
    "y_train = y_train.values\n",
    "y_test = y_test.values"
   ]
  },
  {
   "cell_type": "markdown",
   "metadata": {},
   "source": [
    "Just for fun, I will test my data on almost all model available in scikit learn and see how it goes. I can afford that because my computer is not that bad, moreover the undersampling dataset is very small so it will not take forever but in other cases, I will not put so much different models."
   ]
  },
  {
   "cell_type": "markdown",
   "metadata": {},
   "source": [
    "We will sort by the result of test_score, because train_score is much more prone to overfitting. Hence it's way better to look at test score instead."
   ]
  },
  {
   "cell_type": "code",
   "execution_count": 41,
   "metadata": {},
   "outputs": [
    {
     "data": {
      "text/html": [
       "<div>\n",
       "<style scoped>\n",
       "    .dataframe tbody tr th:only-of-type {\n",
       "        vertical-align: middle;\n",
       "    }\n",
       "\n",
       "    .dataframe tbody tr th {\n",
       "        vertical-align: top;\n",
       "    }\n",
       "\n",
       "    .dataframe thead th {\n",
       "        text-align: right;\n",
       "    }\n",
       "</style>\n",
       "<table border=\"1\" class=\"dataframe\">\n",
       "  <thead>\n",
       "    <tr style=\"text-align: right;\">\n",
       "      <th></th>\n",
       "      <th>MLA Name</th>\n",
       "      <th>MLA Parameters</th>\n",
       "      <th>MLA Train Accuracy Mean</th>\n",
       "      <th>MLA Test Accuracy Mean</th>\n",
       "      <th>MLA Test Accuracy 3*STD</th>\n",
       "      <th>MLA Time</th>\n",
       "    </tr>\n",
       "  </thead>\n",
       "  <tbody>\n",
       "    <tr>\n",
       "      <th>7</th>\n",
       "      <td>LogisticRegressionCV</td>\n",
       "      <td>{'Cs': 10, 'class_weight': None, 'cv': None, '...</td>\n",
       "      <td>0.949003</td>\n",
       "      <td>0.94056</td>\n",
       "      <td>0.0388996</td>\n",
       "      <td>0.687372</td>\n",
       "    </tr>\n",
       "    <tr>\n",
       "      <th>23</th>\n",
       "      <td>LGBMClassifier</td>\n",
       "      <td>{'boosting_type': 'gbdt', 'class_weight': None...</td>\n",
       "      <td>1</td>\n",
       "      <td>0.939384</td>\n",
       "      <td>0.0460052</td>\n",
       "      <td>0.363971</td>\n",
       "    </tr>\n",
       "    <tr>\n",
       "      <th>6</th>\n",
       "      <td>LogisticRegression</td>\n",
       "      <td>{'C': 1.0, 'class_weight': None, 'dual': False...</td>\n",
       "      <td>0.950324</td>\n",
       "      <td>0.938179</td>\n",
       "      <td>0.0653596</td>\n",
       "      <td>0.0165622</td>\n",
       "    </tr>\n",
       "    <tr>\n",
       "      <th>4</th>\n",
       "      <td>RandomForestClassifier</td>\n",
       "      <td>{'bootstrap': True, 'ccp_alpha': 0.0, 'class_w...</td>\n",
       "      <td>1</td>\n",
       "      <td>0.938165</td>\n",
       "      <td>0.050034</td>\n",
       "      <td>0.216854</td>\n",
       "    </tr>\n",
       "    <tr>\n",
       "      <th>22</th>\n",
       "      <td>XGBClassifier</td>\n",
       "      <td>{'base_score': 0.5, 'booster': 'gbtree', 'cols...</td>\n",
       "      <td>0.997622</td>\n",
       "      <td>0.937017</td>\n",
       "      <td>0.0499997</td>\n",
       "      <td>0.176917</td>\n",
       "    </tr>\n",
       "    <tr>\n",
       "      <th>17</th>\n",
       "      <td>LinearSVC</td>\n",
       "      <td>{'C': 1.0, 'class_weight': None, 'dual': True,...</td>\n",
       "      <td>0.950984</td>\n",
       "      <td>0.936989</td>\n",
       "      <td>0.0658594</td>\n",
       "      <td>0.0236863</td>\n",
       "    </tr>\n",
       "    <tr>\n",
       "      <th>0</th>\n",
       "      <td>AdaBoostClassifier</td>\n",
       "      <td>{'algorithm': 'SAMME.R', 'base_estimator': Non...</td>\n",
       "      <td>0.994055</td>\n",
       "      <td>0.933431</td>\n",
       "      <td>0.0360263</td>\n",
       "      <td>0.139848</td>\n",
       "    </tr>\n",
       "    <tr>\n",
       "      <th>14</th>\n",
       "      <td>KNeighborsClassifier</td>\n",
       "      <td>{'algorithm': 'auto', 'leaf_size': 30, 'metric...</td>\n",
       "      <td>0.952438</td>\n",
       "      <td>0.932283</td>\n",
       "      <td>0.0791381</td>\n",
       "      <td>0.00409355</td>\n",
       "    </tr>\n",
       "    <tr>\n",
       "      <th>15</th>\n",
       "      <td>SVC</td>\n",
       "      <td>{'C': 1.0, 'break_ties': False, 'cache_size': ...</td>\n",
       "      <td>0.946492</td>\n",
       "      <td>0.932213</td>\n",
       "      <td>0.0679374</td>\n",
       "      <td>0.0329798</td>\n",
       "    </tr>\n",
       "    <tr>\n",
       "      <th>3</th>\n",
       "      <td>GradientBoostingClassifier</td>\n",
       "      <td>{'ccp_alpha': 0.0, 'criterion': 'friedman_mse'...</td>\n",
       "      <td>0.999207</td>\n",
       "      <td>0.93105</td>\n",
       "      <td>0.0443324</td>\n",
       "      <td>0.482761</td>\n",
       "    </tr>\n",
       "    <tr>\n",
       "      <th>2</th>\n",
       "      <td>ExtraTreesClassifier</td>\n",
       "      <td>{'bootstrap': False, 'ccp_alpha': 0.0, 'class_...</td>\n",
       "      <td>1</td>\n",
       "      <td>0.931022</td>\n",
       "      <td>0.0501239</td>\n",
       "      <td>0.102694</td>\n",
       "    </tr>\n",
       "    <tr>\n",
       "      <th>1</th>\n",
       "      <td>BaggingClassifier</td>\n",
       "      <td>{'base_estimator': None, 'bootstrap': True, 'b...</td>\n",
       "      <td>0.992073</td>\n",
       "      <td>0.928641</td>\n",
       "      <td>0.0619833</td>\n",
       "      <td>0.072239</td>\n",
       "    </tr>\n",
       "    <tr>\n",
       "      <th>5</th>\n",
       "      <td>GaussianProcessClassifier</td>\n",
       "      <td>{'copy_X_train': True, 'kernel': None, 'max_it...</td>\n",
       "      <td>0.999075</td>\n",
       "      <td>0.927493</td>\n",
       "      <td>0.0849297</td>\n",
       "      <td>0.223791</td>\n",
       "    </tr>\n",
       "    <tr>\n",
       "      <th>10</th>\n",
       "      <td>SGDClassifier</td>\n",
       "      <td>{'alpha': 0.0001, 'average': False, 'class_wei...</td>\n",
       "      <td>0.934076</td>\n",
       "      <td>0.927465</td>\n",
       "      <td>0.0667376</td>\n",
       "      <td>0.00398562</td>\n",
       "    </tr>\n",
       "    <tr>\n",
       "      <th>9</th>\n",
       "      <td>RidgeClassifierCV</td>\n",
       "      <td>{'alphas': array([ 0.1,  1. , 10. ]), 'class_w...</td>\n",
       "      <td>0.924297</td>\n",
       "      <td>0.922717</td>\n",
       "      <td>0.0769506</td>\n",
       "      <td>0.00428326</td>\n",
       "    </tr>\n",
       "    <tr>\n",
       "      <th>20</th>\n",
       "      <td>LinearDiscriminantAnalysis</td>\n",
       "      <td>{'n_components': None, 'priors': None, 'shrink...</td>\n",
       "      <td>0.924561</td>\n",
       "      <td>0.921527</td>\n",
       "      <td>0.0785229</td>\n",
       "      <td>0.00438504</td>\n",
       "    </tr>\n",
       "    <tr>\n",
       "      <th>13</th>\n",
       "      <td>GaussianNB</td>\n",
       "      <td>{'priors': None, 'var_smoothing': 1e-09}</td>\n",
       "      <td>0.917559</td>\n",
       "      <td>0.915602</td>\n",
       "      <td>0.086387</td>\n",
       "      <td>0.0018064</td>\n",
       "    </tr>\n",
       "    <tr>\n",
       "      <th>21</th>\n",
       "      <td>QuadraticDiscriminantAnalysis</td>\n",
       "      <td>{'priors': None, 'reg_param': 0.0, 'store_cova...</td>\n",
       "      <td>0.932488</td>\n",
       "      <td>0.913249</td>\n",
       "      <td>0.0724546</td>\n",
       "      <td>0.00508599</td>\n",
       "    </tr>\n",
       "    <tr>\n",
       "      <th>11</th>\n",
       "      <td>Perceptron</td>\n",
       "      <td>{'alpha': 0.0001, 'class_weight': None, 'early...</td>\n",
       "      <td>0.921787</td>\n",
       "      <td>0.910812</td>\n",
       "      <td>0.0879097</td>\n",
       "      <td>0.00269606</td>\n",
       "    </tr>\n",
       "    <tr>\n",
       "      <th>12</th>\n",
       "      <td>BernoulliNB</td>\n",
       "      <td>{'alpha': 1.0, 'binarize': 0.0, 'class_prior':...</td>\n",
       "      <td>0.91016</td>\n",
       "      <td>0.910798</td>\n",
       "      <td>0.0514041</td>\n",
       "      <td>0.00219166</td>\n",
       "    </tr>\n",
       "    <tr>\n",
       "      <th>8</th>\n",
       "      <td>PassiveAggressiveClassifier</td>\n",
       "      <td>{'C': 1.0, 'average': False, 'class_weight': N...</td>\n",
       "      <td>0.921786</td>\n",
       "      <td>0.90605</td>\n",
       "      <td>0.0608762</td>\n",
       "      <td>0.00230086</td>\n",
       "    </tr>\n",
       "    <tr>\n",
       "      <th>16</th>\n",
       "      <td>NuSVC</td>\n",
       "      <td>{'break_ties': False, 'cache_size': 200, 'clas...</td>\n",
       "      <td>0.904346</td>\n",
       "      <td>0.902465</td>\n",
       "      <td>0.0781768</td>\n",
       "      <td>0.0860702</td>\n",
       "    </tr>\n",
       "    <tr>\n",
       "      <th>18</th>\n",
       "      <td>DecisionTreeClassifier</td>\n",
       "      <td>{'ccp_alpha': 0.0, 'class_weight': None, 'crit...</td>\n",
       "      <td>1</td>\n",
       "      <td>0.877521</td>\n",
       "      <td>0.086147</td>\n",
       "      <td>0.0107943</td>\n",
       "    </tr>\n",
       "    <tr>\n",
       "      <th>19</th>\n",
       "      <td>ExtraTreeClassifier</td>\n",
       "      <td>{'ccp_alpha': 0.0, 'class_weight': None, 'crit...</td>\n",
       "      <td>1</td>\n",
       "      <td>0.871625</td>\n",
       "      <td>0.071936</td>\n",
       "      <td>0.00169702</td>\n",
       "    </tr>\n",
       "  </tbody>\n",
       "</table>\n",
       "</div>"
      ],
      "text/plain": [
       "                         MLA Name  \\\n",
       "7            LogisticRegressionCV   \n",
       "23                 LGBMClassifier   \n",
       "6              LogisticRegression   \n",
       "4          RandomForestClassifier   \n",
       "22                  XGBClassifier   \n",
       "17                      LinearSVC   \n",
       "0              AdaBoostClassifier   \n",
       "14           KNeighborsClassifier   \n",
       "15                            SVC   \n",
       "3      GradientBoostingClassifier   \n",
       "2            ExtraTreesClassifier   \n",
       "1               BaggingClassifier   \n",
       "5       GaussianProcessClassifier   \n",
       "10                  SGDClassifier   \n",
       "9               RidgeClassifierCV   \n",
       "20     LinearDiscriminantAnalysis   \n",
       "13                     GaussianNB   \n",
       "21  QuadraticDiscriminantAnalysis   \n",
       "11                     Perceptron   \n",
       "12                    BernoulliNB   \n",
       "8     PassiveAggressiveClassifier   \n",
       "16                          NuSVC   \n",
       "18         DecisionTreeClassifier   \n",
       "19            ExtraTreeClassifier   \n",
       "\n",
       "                                       MLA Parameters MLA Train Accuracy Mean  \\\n",
       "7   {'Cs': 10, 'class_weight': None, 'cv': None, '...                0.949003   \n",
       "23  {'boosting_type': 'gbdt', 'class_weight': None...                       1   \n",
       "6   {'C': 1.0, 'class_weight': None, 'dual': False...                0.950324   \n",
       "4   {'bootstrap': True, 'ccp_alpha': 0.0, 'class_w...                       1   \n",
       "22  {'base_score': 0.5, 'booster': 'gbtree', 'cols...                0.997622   \n",
       "17  {'C': 1.0, 'class_weight': None, 'dual': True,...                0.950984   \n",
       "0   {'algorithm': 'SAMME.R', 'base_estimator': Non...                0.994055   \n",
       "14  {'algorithm': 'auto', 'leaf_size': 30, 'metric...                0.952438   \n",
       "15  {'C': 1.0, 'break_ties': False, 'cache_size': ...                0.946492   \n",
       "3   {'ccp_alpha': 0.0, 'criterion': 'friedman_mse'...                0.999207   \n",
       "2   {'bootstrap': False, 'ccp_alpha': 0.0, 'class_...                       1   \n",
       "1   {'base_estimator': None, 'bootstrap': True, 'b...                0.992073   \n",
       "5   {'copy_X_train': True, 'kernel': None, 'max_it...                0.999075   \n",
       "10  {'alpha': 0.0001, 'average': False, 'class_wei...                0.934076   \n",
       "9   {'alphas': array([ 0.1,  1. , 10. ]), 'class_w...                0.924297   \n",
       "20  {'n_components': None, 'priors': None, 'shrink...                0.924561   \n",
       "13           {'priors': None, 'var_smoothing': 1e-09}                0.917559   \n",
       "21  {'priors': None, 'reg_param': 0.0, 'store_cova...                0.932488   \n",
       "11  {'alpha': 0.0001, 'class_weight': None, 'early...                0.921787   \n",
       "12  {'alpha': 1.0, 'binarize': 0.0, 'class_prior':...                 0.91016   \n",
       "8   {'C': 1.0, 'average': False, 'class_weight': N...                0.921786   \n",
       "16  {'break_ties': False, 'cache_size': 200, 'clas...                0.904346   \n",
       "18  {'ccp_alpha': 0.0, 'class_weight': None, 'crit...                       1   \n",
       "19  {'ccp_alpha': 0.0, 'class_weight': None, 'crit...                       1   \n",
       "\n",
       "   MLA Test Accuracy Mean MLA Test Accuracy 3*STD    MLA Time  \n",
       "7                 0.94056               0.0388996    0.687372  \n",
       "23               0.939384               0.0460052    0.363971  \n",
       "6                0.938179               0.0653596   0.0165622  \n",
       "4                0.938165                0.050034    0.216854  \n",
       "22               0.937017               0.0499997    0.176917  \n",
       "17               0.936989               0.0658594   0.0236863  \n",
       "0                0.933431               0.0360263    0.139848  \n",
       "14               0.932283               0.0791381  0.00409355  \n",
       "15               0.932213               0.0679374   0.0329798  \n",
       "3                 0.93105               0.0443324    0.482761  \n",
       "2                0.931022               0.0501239    0.102694  \n",
       "1                0.928641               0.0619833    0.072239  \n",
       "5                0.927493               0.0849297    0.223791  \n",
       "10               0.927465               0.0667376  0.00398562  \n",
       "9                0.922717               0.0769506  0.00428326  \n",
       "20               0.921527               0.0785229  0.00438504  \n",
       "13               0.915602                0.086387   0.0018064  \n",
       "21               0.913249               0.0724546  0.00508599  \n",
       "11               0.910812               0.0879097  0.00269606  \n",
       "12               0.910798               0.0514041  0.00219166  \n",
       "8                 0.90605               0.0608762  0.00230086  \n",
       "16               0.902465               0.0781768   0.0860702  \n",
       "18               0.877521                0.086147   0.0107943  \n",
       "19               0.871625                0.071936  0.00169702  "
      ]
     },
     "execution_count": 41,
     "metadata": {},
     "output_type": "execute_result"
    }
   ],
   "source": [
    "#Machine Learning Algorithm (MLA) Selection and Initialization\n",
    "MLA = [\n",
    "    #Ensemble Methods\n",
    "    ensemble.AdaBoostClassifier(),\n",
    "    ensemble.BaggingClassifier(),\n",
    "    ensemble.ExtraTreesClassifier(),\n",
    "    ensemble.GradientBoostingClassifier(),\n",
    "    ensemble.RandomForestClassifier(),\n",
    "\n",
    "    #Gaussian Processes\n",
    "    gaussian_process.GaussianProcessClassifier(),\n",
    "    \n",
    "    #GLM\n",
    "    LogisticRegression(),\n",
    "    linear_model.LogisticRegressionCV(),\n",
    "    linear_model.PassiveAggressiveClassifier(),\n",
    "    linear_model.RidgeClassifierCV(),\n",
    "    linear_model.SGDClassifier(),\n",
    "    linear_model.Perceptron(),\n",
    "    \n",
    "    #Navies Bayes\n",
    "    naive_bayes.BernoulliNB(),\n",
    "    naive_bayes.GaussianNB(),\n",
    "\n",
    "    \n",
    "    #Nearest Neighbor\n",
    "    neighbors.KNeighborsClassifier(),\n",
    "    \n",
    "    #SVM\n",
    "    svm.SVC(probability=True),\n",
    "    svm.NuSVC(probability=True),\n",
    "    svm.LinearSVC(),\n",
    "    \n",
    "    #Trees    \n",
    "    tree.DecisionTreeClassifier(),\n",
    "    tree.ExtraTreeClassifier(),\n",
    "    \n",
    "    #Discriminant Analysis\n",
    "    discriminant_analysis.LinearDiscriminantAnalysis(),\n",
    "    discriminant_analysis.QuadraticDiscriminantAnalysis(),\n",
    "\n",
    "    \n",
    "    #xgboost\n",
    "    XGBClassifier(),\n",
    "    LGBMClassifier()\n",
    "    ]\n",
    "\n",
    "\n",
    "cv_split =  StratifiedKFold(n_splits=10, random_state=42)\n",
    "\n",
    "#create table to compare MLA metrics\n",
    "MLA_columns = ['MLA Name', 'MLA Parameters','MLA Train Accuracy Mean', 'MLA Test Accuracy Mean', 'MLA Test Accuracy 3*STD' ,'MLA Time']\n",
    "MLA_compare = pd.DataFrame(columns = MLA_columns)\n",
    "\n",
    "#create table to compare MLA predictions\n",
    "MLA_predict = y\n",
    "\n",
    "#index through MLA and save performance to table\n",
    "row_index = 0\n",
    "for alg in MLA:\n",
    "\n",
    "    #set name and parameters\n",
    "    MLA_name = alg.__class__.__name__\n",
    "    MLA_compare.loc[row_index, 'MLA Name'] = MLA_name\n",
    "    MLA_compare.loc[row_index, 'MLA Parameters'] = str(alg.get_params())\n",
    "    \n",
    "    cv_results = model_selection.cross_validate(alg, X, y, cv  = cv_split, return_train_score = True, scoring = 'accuracy')\n",
    "\n",
    "    MLA_compare.loc[row_index, 'MLA Time'] = cv_results['fit_time'].mean()\n",
    "    MLA_compare.loc[row_index, 'MLA Train Accuracy Mean'] = cv_results['train_score'].mean()\n",
    "    MLA_compare.loc[row_index, 'MLA Test Accuracy Mean'] = cv_results['test_score'].mean()   \n",
    "    MLA_compare.loc[row_index, 'MLA Test Accuracy 3*STD'] = cv_results['test_score'].std()*3   \n",
    "\n",
    "    \n",
    "    row_index+=1\n",
    "\n",
    "    \n",
    "MLA_compare.sort_values(by = ['MLA Test Accuracy Mean'], ascending = False, inplace = True)\n",
    "MLA_compare"
   ]
  },
  {
   "cell_type": "code",
   "execution_count": 43,
   "metadata": {},
   "outputs": [
    {
     "data": {
      "text/html": [
       "<div>\n",
       "<style scoped>\n",
       "    .dataframe tbody tr th:only-of-type {\n",
       "        vertical-align: middle;\n",
       "    }\n",
       "\n",
       "    .dataframe tbody tr th {\n",
       "        vertical-align: top;\n",
       "    }\n",
       "\n",
       "    .dataframe thead th {\n",
       "        text-align: right;\n",
       "    }\n",
       "</style>\n",
       "<table border=\"1\" class=\"dataframe\">\n",
       "  <thead>\n",
       "    <tr style=\"text-align: right;\">\n",
       "      <th></th>\n",
       "      <th>MLA Name</th>\n",
       "      <th>MLA Parameters</th>\n",
       "      <th>MLA Train AUC Mean</th>\n",
       "      <th>MLA Test AUC Mean</th>\n",
       "      <th>MLA Test AUC 3*STD</th>\n",
       "      <th>MLA Time</th>\n",
       "    </tr>\n",
       "  </thead>\n",
       "  <tbody>\n",
       "    <tr>\n",
       "      <th>7</th>\n",
       "      <td>LogisticRegressionCV</td>\n",
       "      <td>{'Cs': 10, 'class_weight': None, 'cv': None, '...</td>\n",
       "      <td>0.984009</td>\n",
       "      <td>0.978079</td>\n",
       "      <td>0.0297294</td>\n",
       "      <td>0.676885</td>\n",
       "    </tr>\n",
       "    <tr>\n",
       "      <th>3</th>\n",
       "      <td>GradientBoostingClassifier</td>\n",
       "      <td>{'ccp_alpha': 0.0, 'criterion': 'friedman_mse'...</td>\n",
       "      <td>0.999999</td>\n",
       "      <td>0.975197</td>\n",
       "      <td>0.0373813</td>\n",
       "      <td>0.481314</td>\n",
       "    </tr>\n",
       "    <tr>\n",
       "      <th>15</th>\n",
       "      <td>SVC</td>\n",
       "      <td>{'C': 1.0, 'break_ties': False, 'cache_size': ...</td>\n",
       "      <td>0.985432</td>\n",
       "      <td>0.975125</td>\n",
       "      <td>0.0383874</td>\n",
       "      <td>0.033806</td>\n",
       "    </tr>\n",
       "    <tr>\n",
       "      <th>6</th>\n",
       "      <td>LogisticRegression</td>\n",
       "      <td>{'C': 1.0, 'class_weight': None, 'dual': False...</td>\n",
       "      <td>0.986641</td>\n",
       "      <td>0.97499</td>\n",
       "      <td>0.0296546</td>\n",
       "      <td>0.0171545</td>\n",
       "    </tr>\n",
       "    <tr>\n",
       "      <th>22</th>\n",
       "      <td>XGBClassifier</td>\n",
       "      <td>{'base_score': 0.5, 'booster': 'gbtree', 'cols...</td>\n",
       "      <td>0.999987</td>\n",
       "      <td>0.974068</td>\n",
       "      <td>0.0413047</td>\n",
       "      <td>0.167249</td>\n",
       "    </tr>\n",
       "    <tr>\n",
       "      <th>23</th>\n",
       "      <td>LGBMClassifier</td>\n",
       "      <td>{'boosting_type': 'gbdt', 'class_weight': None...</td>\n",
       "      <td>1</td>\n",
       "      <td>0.973506</td>\n",
       "      <td>0.0386029</td>\n",
       "      <td>0.358439</td>\n",
       "    </tr>\n",
       "    <tr>\n",
       "      <th>2</th>\n",
       "      <td>ExtraTreesClassifier</td>\n",
       "      <td>{'bootstrap': False, 'ccp_alpha': 0.0, 'class_...</td>\n",
       "      <td>1</td>\n",
       "      <td>0.973371</td>\n",
       "      <td>0.0513336</td>\n",
       "      <td>0.108307</td>\n",
       "    </tr>\n",
       "    <tr>\n",
       "      <th>17</th>\n",
       "      <td>LinearSVC</td>\n",
       "      <td>{'C': 1.0, 'class_weight': None, 'dual': True,...</td>\n",
       "      <td>0.987124</td>\n",
       "      <td>0.972881</td>\n",
       "      <td>0.0363676</td>\n",
       "      <td>0.0234368</td>\n",
       "    </tr>\n",
       "    <tr>\n",
       "      <th>0</th>\n",
       "      <td>AdaBoostClassifier</td>\n",
       "      <td>{'algorithm': 'SAMME.R', 'base_estimator': Non...</td>\n",
       "      <td>0.999898</td>\n",
       "      <td>0.970691</td>\n",
       "      <td>0.053531</td>\n",
       "      <td>0.151799</td>\n",
       "    </tr>\n",
       "    <tr>\n",
       "      <th>9</th>\n",
       "      <td>RidgeClassifierCV</td>\n",
       "      <td>{'alphas': array([ 0.1,  1. , 10. ]), 'class_w...</td>\n",
       "      <td>0.977119</td>\n",
       "      <td>0.9705</td>\n",
       "      <td>0.0524745</td>\n",
       "      <td>0.00436721</td>\n",
       "    </tr>\n",
       "    <tr>\n",
       "      <th>20</th>\n",
       "      <td>LinearDiscriminantAnalysis</td>\n",
       "      <td>{'n_components': None, 'priors': None, 'shrink...</td>\n",
       "      <td>0.976794</td>\n",
       "      <td>0.969817</td>\n",
       "      <td>0.0534449</td>\n",
       "      <td>0.00508759</td>\n",
       "    </tr>\n",
       "    <tr>\n",
       "      <th>4</th>\n",
       "      <td>RandomForestClassifier</td>\n",
       "      <td>{'bootstrap': True, 'ccp_alpha': 0.0, 'class_w...</td>\n",
       "      <td>1</td>\n",
       "      <td>0.968871</td>\n",
       "      <td>0.0509275</td>\n",
       "      <td>0.219903</td>\n",
       "    </tr>\n",
       "    <tr>\n",
       "      <th>16</th>\n",
       "      <td>NuSVC</td>\n",
       "      <td>{'break_ties': False, 'cache_size': 200, 'clas...</td>\n",
       "      <td>0.97073</td>\n",
       "      <td>0.966927</td>\n",
       "      <td>0.0428975</td>\n",
       "      <td>0.0867676</td>\n",
       "    </tr>\n",
       "    <tr>\n",
       "      <th>21</th>\n",
       "      <td>QuadraticDiscriminantAnalysis</td>\n",
       "      <td>{'priors': None, 'reg_param': 0.0, 'store_cova...</td>\n",
       "      <td>0.976989</td>\n",
       "      <td>0.966246</td>\n",
       "      <td>0.0362324</td>\n",
       "      <td>0.00518157</td>\n",
       "    </tr>\n",
       "    <tr>\n",
       "      <th>11</th>\n",
       "      <td>Perceptron</td>\n",
       "      <td>{'alpha': 0.0001, 'class_weight': None, 'early...</td>\n",
       "      <td>0.973991</td>\n",
       "      <td>0.964709</td>\n",
       "      <td>0.0575829</td>\n",
       "      <td>0.00229409</td>\n",
       "    </tr>\n",
       "    <tr>\n",
       "      <th>1</th>\n",
       "      <td>BaggingClassifier</td>\n",
       "      <td>{'base_estimator': None, 'bootstrap': True, 'b...</td>\n",
       "      <td>0.999888</td>\n",
       "      <td>0.963911</td>\n",
       "      <td>0.0569038</td>\n",
       "      <td>0.0721992</td>\n",
       "    </tr>\n",
       "    <tr>\n",
       "      <th>14</th>\n",
       "      <td>KNeighborsClassifier</td>\n",
       "      <td>{'algorithm': 'auto', 'leaf_size': 30, 'metric...</td>\n",
       "      <td>0.992086</td>\n",
       "      <td>0.962286</td>\n",
       "      <td>0.0587919</td>\n",
       "      <td>0.00419014</td>\n",
       "    </tr>\n",
       "    <tr>\n",
       "      <th>13</th>\n",
       "      <td>GaussianNB</td>\n",
       "      <td>{'priors': None, 'var_smoothing': 1e-09}</td>\n",
       "      <td>0.961576</td>\n",
       "      <td>0.959098</td>\n",
       "      <td>0.0581719</td>\n",
       "      <td>0.00139627</td>\n",
       "    </tr>\n",
       "    <tr>\n",
       "      <th>8</th>\n",
       "      <td>PassiveAggressiveClassifier</td>\n",
       "      <td>{'C': 1.0, 'average': False, 'class_weight': N...</td>\n",
       "      <td>0.970183</td>\n",
       "      <td>0.957944</td>\n",
       "      <td>0.0536858</td>\n",
       "      <td>0.00200605</td>\n",
       "    </tr>\n",
       "    <tr>\n",
       "      <th>10</th>\n",
       "      <td>SGDClassifier</td>\n",
       "      <td>{'alpha': 0.0001, 'average': False, 'class_wei...</td>\n",
       "      <td>0.97554</td>\n",
       "      <td>0.956432</td>\n",
       "      <td>0.0545123</td>\n",
       "      <td>0.00329609</td>\n",
       "    </tr>\n",
       "    <tr>\n",
       "      <th>12</th>\n",
       "      <td>BernoulliNB</td>\n",
       "      <td>{'alpha': 1.0, 'binarize': 0.0, 'class_prior':...</td>\n",
       "      <td>0.95217</td>\n",
       "      <td>0.948818</td>\n",
       "      <td>0.0708124</td>\n",
       "      <td>0.00258853</td>\n",
       "    </tr>\n",
       "    <tr>\n",
       "      <th>5</th>\n",
       "      <td>GaussianProcessClassifier</td>\n",
       "      <td>{'copy_X_train': True, 'kernel': None, 'max_it...</td>\n",
       "      <td>1</td>\n",
       "      <td>0.944996</td>\n",
       "      <td>0.0897308</td>\n",
       "      <td>0.233874</td>\n",
       "    </tr>\n",
       "    <tr>\n",
       "      <th>19</th>\n",
       "      <td>ExtraTreeClassifier</td>\n",
       "      <td>{'ccp_alpha': 0.0, 'class_weight': None, 'crit...</td>\n",
       "      <td>1</td>\n",
       "      <td>0.892982</td>\n",
       "      <td>0.0610827</td>\n",
       "      <td>0.00159011</td>\n",
       "    </tr>\n",
       "    <tr>\n",
       "      <th>18</th>\n",
       "      <td>DecisionTreeClassifier</td>\n",
       "      <td>{'ccp_alpha': 0.0, 'class_weight': None, 'crit...</td>\n",
       "      <td>1</td>\n",
       "      <td>0.877175</td>\n",
       "      <td>0.0635949</td>\n",
       "      <td>0.0102805</td>\n",
       "    </tr>\n",
       "  </tbody>\n",
       "</table>\n",
       "</div>"
      ],
      "text/plain": [
       "                         MLA Name  \\\n",
       "7            LogisticRegressionCV   \n",
       "3      GradientBoostingClassifier   \n",
       "15                            SVC   \n",
       "6              LogisticRegression   \n",
       "22                  XGBClassifier   \n",
       "23                 LGBMClassifier   \n",
       "2            ExtraTreesClassifier   \n",
       "17                      LinearSVC   \n",
       "0              AdaBoostClassifier   \n",
       "9               RidgeClassifierCV   \n",
       "20     LinearDiscriminantAnalysis   \n",
       "4          RandomForestClassifier   \n",
       "16                          NuSVC   \n",
       "21  QuadraticDiscriminantAnalysis   \n",
       "11                     Perceptron   \n",
       "1               BaggingClassifier   \n",
       "14           KNeighborsClassifier   \n",
       "13                     GaussianNB   \n",
       "8     PassiveAggressiveClassifier   \n",
       "10                  SGDClassifier   \n",
       "12                    BernoulliNB   \n",
       "5       GaussianProcessClassifier   \n",
       "19            ExtraTreeClassifier   \n",
       "18         DecisionTreeClassifier   \n",
       "\n",
       "                                       MLA Parameters MLA Train AUC Mean  \\\n",
       "7   {'Cs': 10, 'class_weight': None, 'cv': None, '...           0.984009   \n",
       "3   {'ccp_alpha': 0.0, 'criterion': 'friedman_mse'...           0.999999   \n",
       "15  {'C': 1.0, 'break_ties': False, 'cache_size': ...           0.985432   \n",
       "6   {'C': 1.0, 'class_weight': None, 'dual': False...           0.986641   \n",
       "22  {'base_score': 0.5, 'booster': 'gbtree', 'cols...           0.999987   \n",
       "23  {'boosting_type': 'gbdt', 'class_weight': None...                  1   \n",
       "2   {'bootstrap': False, 'ccp_alpha': 0.0, 'class_...                  1   \n",
       "17  {'C': 1.0, 'class_weight': None, 'dual': True,...           0.987124   \n",
       "0   {'algorithm': 'SAMME.R', 'base_estimator': Non...           0.999898   \n",
       "9   {'alphas': array([ 0.1,  1. , 10. ]), 'class_w...           0.977119   \n",
       "20  {'n_components': None, 'priors': None, 'shrink...           0.976794   \n",
       "4   {'bootstrap': True, 'ccp_alpha': 0.0, 'class_w...                  1   \n",
       "16  {'break_ties': False, 'cache_size': 200, 'clas...            0.97073   \n",
       "21  {'priors': None, 'reg_param': 0.0, 'store_cova...           0.976989   \n",
       "11  {'alpha': 0.0001, 'class_weight': None, 'early...           0.973991   \n",
       "1   {'base_estimator': None, 'bootstrap': True, 'b...           0.999888   \n",
       "14  {'algorithm': 'auto', 'leaf_size': 30, 'metric...           0.992086   \n",
       "13           {'priors': None, 'var_smoothing': 1e-09}           0.961576   \n",
       "8   {'C': 1.0, 'average': False, 'class_weight': N...           0.970183   \n",
       "10  {'alpha': 0.0001, 'average': False, 'class_wei...            0.97554   \n",
       "12  {'alpha': 1.0, 'binarize': 0.0, 'class_prior':...            0.95217   \n",
       "5   {'copy_X_train': True, 'kernel': None, 'max_it...                  1   \n",
       "19  {'ccp_alpha': 0.0, 'class_weight': None, 'crit...                  1   \n",
       "18  {'ccp_alpha': 0.0, 'class_weight': None, 'crit...                  1   \n",
       "\n",
       "   MLA Test AUC Mean MLA Test AUC 3*STD    MLA Time  \n",
       "7           0.978079          0.0297294    0.676885  \n",
       "3           0.975197          0.0373813    0.481314  \n",
       "15          0.975125          0.0383874    0.033806  \n",
       "6            0.97499          0.0296546   0.0171545  \n",
       "22          0.974068          0.0413047    0.167249  \n",
       "23          0.973506          0.0386029    0.358439  \n",
       "2           0.973371          0.0513336    0.108307  \n",
       "17          0.972881          0.0363676   0.0234368  \n",
       "0           0.970691           0.053531    0.151799  \n",
       "9             0.9705          0.0524745  0.00436721  \n",
       "20          0.969817          0.0534449  0.00508759  \n",
       "4           0.968871          0.0509275    0.219903  \n",
       "16          0.966927          0.0428975   0.0867676  \n",
       "21          0.966246          0.0362324  0.00518157  \n",
       "11          0.964709          0.0575829  0.00229409  \n",
       "1           0.963911          0.0569038   0.0721992  \n",
       "14          0.962286          0.0587919  0.00419014  \n",
       "13          0.959098          0.0581719  0.00139627  \n",
       "8           0.957944          0.0536858  0.00200605  \n",
       "10          0.956432          0.0545123  0.00329609  \n",
       "12          0.948818          0.0708124  0.00258853  \n",
       "5           0.944996          0.0897308    0.233874  \n",
       "19          0.892982          0.0610827  0.00159011  \n",
       "18          0.877175          0.0635949   0.0102805  "
      ]
     },
     "execution_count": 43,
     "metadata": {},
     "output_type": "execute_result"
    }
   ],
   "source": [
    "cv_split = KFold = StratifiedKFold(n_splits=10, random_state=42)\n",
    "\n",
    "#create table to compare MLA metrics\n",
    "MLA_columns = ['MLA Name', 'MLA Parameters','MLA Train AUC Mean', 'MLA Test AUC Mean', 'MLA Test AUC 3*STD' ,'MLA Time']\n",
    "MLA_compare = pd.DataFrame(columns = MLA_columns)\n",
    "\n",
    "#create table to compare MLA predictions\n",
    "MLA_predict = y\n",
    "\n",
    "#index through MLA and save performance to table\n",
    "row_index = 0\n",
    "for alg in MLA:\n",
    "\n",
    "    #set name and parameters\n",
    "    MLA_name = alg.__class__.__name__\n",
    "    MLA_compare.loc[row_index, 'MLA Name'] = MLA_name\n",
    "    MLA_compare.loc[row_index, 'MLA Parameters'] = str(alg.get_params())\n",
    "    \n",
    "    cv_results = model_selection.cross_validate(alg, X, y, cv  = cv_split, return_train_score = True, scoring = 'roc_auc')\n",
    "\n",
    "    MLA_compare.loc[row_index, 'MLA Time'] = cv_results['fit_time'].mean()\n",
    "    MLA_compare.loc[row_index, 'MLA Train AUC Mean'] = cv_results['train_score'].mean()\n",
    "    MLA_compare.loc[row_index, 'MLA Test AUC Mean'] = cv_results['test_score'].mean()   \n",
    "    MLA_compare.loc[row_index, 'MLA Test AUC 3*STD'] = cv_results['test_score'].std()*3   \n",
    "\n",
    "    \n",
    "    row_index+=1\n",
    "\n",
    "    \n",
    "MLA_compare.sort_values(by = ['MLA Test AUC Mean'], ascending = False, inplace = True)\n",
    "MLA_compare"
   ]
  },
  {
   "cell_type": "markdown",
   "metadata": {},
   "source": [
    "As we can see, we obtained some nice results, we can even see some 1 on the train_score, clearly some overfitting, it's usual with train_score, it's far more convenient to see the test_score. The best is to have a result close to 1 with test_score and train_score is very close to test_score. That means great results and probably not overfitting.\n",
    "\n",
    "Let's see if we undersample **during** cross-validation.\n",
    "\n",
    "**Undersampling during cross validation**\n",
    "\n",
    "We will use Logistic regression for now."
   ]
  },
  {
   "cell_type": "code",
   "execution_count": 39,
   "metadata": {},
   "outputs": [],
   "source": [
    "undersample_X = df.drop('Class', axis=1)\n",
    "undersample_y = df['Class']\n",
    "\n",
    "log_reg = LogisticRegression().fit(undersample_X, undersample_y)"
   ]
  },
  {
   "cell_type": "code",
   "execution_count": 11,
   "metadata": {},
   "outputs": [],
   "source": [
    "sss = StratifiedKFold(n_splits=5, random_state=None, shuffle=False)\n",
    "\n",
    "\n",
    "for train_index, test_index in sss.split(undersample_X, undersample_y):\n",
    "    undersample_Xtrain, undersample_Xtest = undersample_X.iloc[train_index], undersample_X.iloc[test_index]\n",
    "    undersample_ytrain, undersample_ytest = undersample_y.iloc[train_index], undersample_y.iloc[test_index]\n",
    "    \n",
    "undersample_Xtrain = undersample_Xtrain.values\n",
    "undersample_Xtest = undersample_Xtest.values\n",
    "undersample_ytrain = undersample_ytrain.values\n",
    "undersample_ytest = undersample_ytest.values \n",
    "\n",
    "undersample_accuracy = []\n",
    "undersample_precision = []\n",
    "undersample_recall = []\n",
    "undersample_f1 = []\n",
    "undersample_auc = []\n",
    "\n",
    "for train, test in sss.split(undersample_Xtrain, undersample_ytrain):\n",
    "    undersample_pipeline = imbalanced_make_pipeline(NearMiss(sampling_strategy='majority'), log_reg) # Undersampling happens during Cross Validation not before..\n",
    "    undersample_model = undersample_pipeline.fit(undersample_Xtrain[train], undersample_ytrain[train])\n",
    "    undersample_prediction = undersample_model.predict(undersample_Xtrain[test])\n",
    "    \n",
    "    undersample_accuracy.append(undersample_pipeline.score(original_Xtrain[test], original_ytrain[test]))\n",
    "    undersample_precision.append(precision_score(original_ytrain[test], undersample_prediction))\n",
    "    undersample_recall.append(recall_score(original_ytrain[test], undersample_prediction))\n",
    "    undersample_f1.append(f1_score(original_ytrain[test], undersample_prediction))\n",
    "    undersample_auc.append(roc_auc_score(original_ytrain[test], undersample_prediction))"
   ]
  },
  {
   "cell_type": "code",
   "execution_count": 14,
   "metadata": {},
   "outputs": [
    {
     "name": "stdout",
     "output_type": "stream",
     "text": [
      "Average accuracy obtained when we undersample during cross-validation : 0.565\n",
      "\n",
      "Average precision obtained when we undersample during cross-validation : 0.00414\n",
      "\n",
      "Average recall obtained when we undersample during cross-validation : 0.954\n",
      "\n",
      "Average f1-score obtained when we undersample during cross-validation : 0.00824\n",
      "\n",
      "Average AUC obtained when we undersample during cross-validation : 0.759\n"
     ]
    }
   ],
   "source": [
    "print('Average accuracy obtained when we undersample during cross-validation : {:.3}'.format(np.mean(undersample_accuracy)))\n",
    "print('')\n",
    "print('Average precision obtained when we undersample during cross-validation : {:.3}'.format(np.mean(undersample_precision)))\n",
    "print('')\n",
    "print('Average recall obtained when we undersample during cross-validation : {:.3}'.format(np.mean(undersample_recall)))\n",
    "print('')\n",
    "print('Average f1-score obtained when we undersample during cross-validation : {:.3}'.format(np.mean(undersample_f1)))\n",
    "print('')\n",
    "print('Average AUC obtained when we undersample during cross-validation : {:.3}'.format(np.mean(undersample_auc)))"
   ]
  },
  {
   "cell_type": "markdown",
   "metadata": {},
   "source": [
    "The results are much worse, that's confirm if we undersample before cross-validation, the risk of overfitting is here. We need to watch out for this in the futur. "
   ]
  },
  {
   "cell_type": "markdown",
   "metadata": {},
   "source": [
    "Let's try with some others models :"
   ]
  },
  {
   "cell_type": "code",
   "execution_count": 40,
   "metadata": {},
   "outputs": [],
   "source": [
    "def undersample_cv(model, name):\n",
    "\n",
    "    sss = StratifiedKFold(n_splits=5, random_state=None, shuffle=False)\n",
    "\n",
    "\n",
    "    for train_index, test_index in sss.split(undersample_X, undersample_y):\n",
    "        undersample_Xtrain, undersample_Xtest = undersample_X.iloc[train_index], undersample_X.iloc[test_index]\n",
    "        undersample_ytrain, undersample_ytest = undersample_y.iloc[train_index], undersample_y.iloc[test_index]\n",
    "    \n",
    "    undersample_Xtrain = undersample_Xtrain.values\n",
    "    undersample_Xtest = undersample_Xtest.values\n",
    "    undersample_ytrain = undersample_ytrain.values\n",
    "    undersample_ytest = undersample_ytest.values \n",
    "\n",
    "    undersample_accuracy = []\n",
    "    undersample_precision = []\n",
    "    undersample_recall = []\n",
    "    undersample_f1 = []\n",
    "    undersample_auc = []\n",
    "    \n",
    "    \n",
    "    for train, test in sss.split(undersample_Xtrain, undersample_ytrain):\n",
    "        undersample_pipeline = imbalanced_make_pipeline(NearMiss(sampling_strategy='majority'), model) \n",
    "        undersample_model = undersample_pipeline.fit(undersample_Xtrain[train], undersample_ytrain[train])\n",
    "        undersample_prediction = undersample_model.predict(undersample_Xtrain[test])\n",
    "    \n",
    "        undersample_accuracy.append(undersample_pipeline.score(original_Xtrain[test], original_ytrain[test]))\n",
    "        undersample_precision.append(precision_score(original_ytrain[test], undersample_prediction))\n",
    "        undersample_recall.append(recall_score(original_ytrain[test], undersample_prediction))\n",
    "        undersample_f1.append(f1_score(original_ytrain[test], undersample_prediction))\n",
    "        undersample_auc.append(roc_auc_score(original_ytrain[test], undersample_prediction))\n",
    "    \n",
    "    \n",
    "    print('The result for {} is:'.format(name))\n",
    "    print('')\n",
    "    print('Average accuracy obtained when we undersample during cross-validation : {:.3}'.format(np.mean(undersample_accuracy)))\n",
    "    print('')\n",
    "    print('Average precision obtained when we undersample during cross-validation : {:.3}'.format(np.mean(undersample_precision)))\n",
    "    print('')\n",
    "    print('Average recall obtained when we undersample during cross-validation : {:.3}'.format(np.mean(undersample_recall)))\n",
    "    print('')\n",
    "    print('Average f1-score obtained when we undersample during cross-validation : {:.3}'.format(np.mean(undersample_f1)))\n",
    "    print('')\n",
    "    print('Average AUC obtained when we undersample during cross-validation : {:.3}'.format(np.mean(undersample_auc)))"
   ]
  },
  {
   "cell_type": "code",
   "execution_count": 145,
   "metadata": {},
   "outputs": [
    {
     "name": "stdout",
     "output_type": "stream",
     "text": [
      "The result for LGBM is:\n",
      "\n",
      "Average accuracy obtained when we undersample during cross-validation : 0.0996\n",
      "\n",
      "Average precision obtained when we undersample during cross-validation : 0.00186\n",
      "\n",
      "Average recall obtained when we undersample during cross-validation : 0.967\n",
      "\n",
      "Average f1-score obtained when we undersample during cross-validation : 0.00371\n",
      "\n",
      "Average AUC obtained when we undersample during cross-validation : 0.533\n"
     ]
    }
   ],
   "source": [
    "LGBM = LGBMClassifier()\n",
    "undersample_cv(LGBM, 'LGBM')"
   ]
  },
  {
   "cell_type": "code",
   "execution_count": 146,
   "metadata": {},
   "outputs": [
    {
     "name": "stdout",
     "output_type": "stream",
     "text": [
      "The result for Xgboost is:\n",
      "\n",
      "Average accuracy obtained when we undersample during cross-validation : 0.128\n",
      "\n",
      "Average precision obtained when we undersample during cross-validation : 0.00192\n",
      "\n",
      "Average recall obtained when we undersample during cross-validation : 0.967\n",
      "\n",
      "Average f1-score obtained when we undersample during cross-validation : 0.00383\n",
      "\n",
      "Average AUC obtained when we undersample during cross-validation : 0.547\n"
     ]
    }
   ],
   "source": [
    "Xgboost = xgb.XGBClassifier()\n",
    "undersample_cv(Xgboost, 'Xgboost')"
   ]
  },
  {
   "cell_type": "code",
   "execution_count": 147,
   "metadata": {},
   "outputs": [
    {
     "name": "stdout",
     "output_type": "stream",
     "text": [
      "The result for extra_tree is:\n",
      "\n",
      "Average accuracy obtained when we undersample during cross-validation : 0.107\n",
      "\n",
      "Average precision obtained when we undersample during cross-validation : 0.00189\n",
      "\n",
      "Average recall obtained when we undersample during cross-validation : 0.97\n",
      "\n",
      "Average f1-score obtained when we undersample during cross-validation : 0.00377\n",
      "\n",
      "Average AUC obtained when we undersample during cross-validation : 0.538\n"
     ]
    }
   ],
   "source": [
    "extra_tree = ensemble.ExtraTreesClassifier()\n",
    "undersample_cv(extra_tree, 'extra_tree')"
   ]
  },
  {
   "cell_type": "code",
   "execution_count": 41,
   "metadata": {},
   "outputs": [
    {
     "name": "stdout",
     "output_type": "stream",
     "text": [
      "The result for Random Forest is:\n",
      "\n",
      "Average accuracy obtained when we undersample during cross-validation : 0.126\n",
      "\n",
      "Average precision obtained when we undersample during cross-validation : 0.00181\n",
      "\n",
      "Average recall obtained when we undersample during cross-validation : 0.924\n",
      "\n",
      "Average f1-score obtained when we undersample during cross-validation : 0.00361\n",
      "\n",
      "Average AUC obtained when we undersample during cross-validation : 0.526\n"
     ]
    }
   ],
   "source": [
    "RF = ensemble.RandomForestClassifier()\n",
    "undersample_cv(RF, 'Random Forest')"
   ]
  },
  {
   "cell_type": "markdown",
   "metadata": {},
   "source": [
    "I think we got the point, the result are clearly worse. Before we try oversampling, I would like to know the most important feature in this case. I will pick Random Forest for this."
   ]
  },
  {
   "cell_type": "code",
   "execution_count": 42,
   "metadata": {},
   "outputs": [],
   "source": [
    "RF = ensemble.RandomForestClassifier().fit(X_train, y_train)"
   ]
  },
  {
   "cell_type": "code",
   "execution_count": 46,
   "metadata": {},
   "outputs": [
    {
     "data": {
      "text/html": [
       "\n",
       "    <style>\n",
       "    table.eli5-weights tr:hover {\n",
       "        filter: brightness(85%);\n",
       "    }\n",
       "</style>\n",
       "\n",
       "\n",
       "\n",
       "    \n",
       "\n",
       "    \n",
       "\n",
       "    \n",
       "\n",
       "    \n",
       "\n",
       "    \n",
       "\n",
       "    \n",
       "\n",
       "\n",
       "    \n",
       "\n",
       "    \n",
       "\n",
       "    \n",
       "\n",
       "    \n",
       "\n",
       "    \n",
       "\n",
       "    \n",
       "\n",
       "\n",
       "    \n",
       "\n",
       "    \n",
       "\n",
       "    \n",
       "\n",
       "    \n",
       "\n",
       "    \n",
       "        <table class=\"eli5-weights eli5-feature-importances\" style=\"border-collapse: collapse; border: none; margin-top: 0em; table-layout: auto;\">\n",
       "    <thead>\n",
       "    <tr style=\"border: none;\">\n",
       "        <th style=\"padding: 0 1em 0 0.5em; text-align: right; border: none;\">Weight</th>\n",
       "        <th style=\"padding: 0 0.5em 0 0.5em; text-align: left; border: none;\">Feature</th>\n",
       "    </tr>\n",
       "    </thead>\n",
       "    <tbody>\n",
       "    \n",
       "        <tr style=\"background-color: hsl(120, 100.00%, 80.00%); border: none;\">\n",
       "            <td style=\"padding: 0 1em 0 0.5em; text-align: right; border: none;\">\n",
       "                0.0690\n",
       "                \n",
       "                    &plusmn; 0.0556\n",
       "                \n",
       "            </td>\n",
       "            <td style=\"padding: 0 0.5em 0 0.5em; text-align: left; border: none;\">\n",
       "                V14\n",
       "            </td>\n",
       "        </tr>\n",
       "    \n",
       "        <tr style=\"background-color: hsl(120, 100.00%, 94.57%); border: none;\">\n",
       "            <td style=\"padding: 0 1em 0 0.5em; text-align: right; border: none;\">\n",
       "                0.0107\n",
       "                \n",
       "                    &plusmn; 0.0231\n",
       "                \n",
       "            </td>\n",
       "            <td style=\"padding: 0 0.5em 0 0.5em; text-align: left; border: none;\">\n",
       "                V12\n",
       "            </td>\n",
       "        </tr>\n",
       "    \n",
       "        <tr style=\"background-color: hsl(120, 100.00%, 94.57%); border: none;\">\n",
       "            <td style=\"padding: 0 1em 0 0.5em; text-align: right; border: none;\">\n",
       "                0.0107\n",
       "                \n",
       "                    &plusmn; 0.0089\n",
       "                \n",
       "            </td>\n",
       "            <td style=\"padding: 0 0.5em 0 0.5em; text-align: left; border: none;\">\n",
       "                V11\n",
       "            </td>\n",
       "        </tr>\n",
       "    \n",
       "        <tr style=\"background-color: hsl(120, 100.00%, 95.45%); border: none;\">\n",
       "            <td style=\"padding: 0 1em 0 0.5em; text-align: right; border: none;\">\n",
       "                0.0083\n",
       "                \n",
       "                    &plusmn; 0.0193\n",
       "                \n",
       "            </td>\n",
       "            <td style=\"padding: 0 0.5em 0 0.5em; text-align: left; border: none;\">\n",
       "                V4\n",
       "            </td>\n",
       "        </tr>\n",
       "    \n",
       "        <tr style=\"background-color: hsl(120, 100.00%, 96.40%); border: none;\">\n",
       "            <td style=\"padding: 0 1em 0 0.5em; text-align: right; border: none;\">\n",
       "                0.0060\n",
       "                \n",
       "                    &plusmn; 0.0075\n",
       "                \n",
       "            </td>\n",
       "            <td style=\"padding: 0 0.5em 0 0.5em; text-align: left; border: none;\">\n",
       "                V10\n",
       "            </td>\n",
       "        </tr>\n",
       "    \n",
       "        <tr style=\"background-color: hsl(120, 100.00%, 98.11%); border: none;\">\n",
       "            <td style=\"padding: 0 1em 0 0.5em; text-align: right; border: none;\">\n",
       "                0.0024\n",
       "                \n",
       "                    &plusmn; 0.0058\n",
       "                \n",
       "            </td>\n",
       "            <td style=\"padding: 0 0.5em 0 0.5em; text-align: left; border: none;\">\n",
       "                V23\n",
       "            </td>\n",
       "        </tr>\n",
       "    \n",
       "        <tr style=\"background-color: hsl(120, 100.00%, 98.83%); border: none;\">\n",
       "            <td style=\"padding: 0 1em 0 0.5em; text-align: right; border: none;\">\n",
       "                0.0012\n",
       "                \n",
       "                    &plusmn; 0.0048\n",
       "                \n",
       "            </td>\n",
       "            <td style=\"padding: 0 0.5em 0 0.5em; text-align: left; border: none;\">\n",
       "                scaled_amount\n",
       "            </td>\n",
       "        </tr>\n",
       "    \n",
       "        <tr style=\"background-color: hsl(120, 100.00%, 98.83%); border: none;\">\n",
       "            <td style=\"padding: 0 1em 0 0.5em; text-align: right; border: none;\">\n",
       "                0.0012\n",
       "                \n",
       "                    &plusmn; 0.0048\n",
       "                \n",
       "            </td>\n",
       "            <td style=\"padding: 0 0.5em 0 0.5em; text-align: left; border: none;\">\n",
       "                V5\n",
       "            </td>\n",
       "        </tr>\n",
       "    \n",
       "        <tr style=\"background-color: hsl(0, 100.00%, 100.00%); border: none;\">\n",
       "            <td style=\"padding: 0 1em 0 0.5em; text-align: right; border: none;\">\n",
       "                0\n",
       "                \n",
       "                    &plusmn; 0.0000\n",
       "                \n",
       "            </td>\n",
       "            <td style=\"padding: 0 0.5em 0 0.5em; text-align: left; border: none;\">\n",
       "                V8\n",
       "            </td>\n",
       "        </tr>\n",
       "    \n",
       "        <tr style=\"background-color: hsl(0, 100.00%, 100.00%); border: none;\">\n",
       "            <td style=\"padding: 0 1em 0 0.5em; text-align: right; border: none;\">\n",
       "                0\n",
       "                \n",
       "                    &plusmn; 0.0000\n",
       "                \n",
       "            </td>\n",
       "            <td style=\"padding: 0 0.5em 0 0.5em; text-align: left; border: none;\">\n",
       "                V13\n",
       "            </td>\n",
       "        </tr>\n",
       "    \n",
       "        <tr style=\"background-color: hsl(0, 100.00%, 100.00%); border: none;\">\n",
       "            <td style=\"padding: 0 1em 0 0.5em; text-align: right; border: none;\">\n",
       "                0.0000\n",
       "                \n",
       "                    &plusmn; 0.0075\n",
       "                \n",
       "            </td>\n",
       "            <td style=\"padding: 0 0.5em 0 0.5em; text-align: left; border: none;\">\n",
       "                V20\n",
       "            </td>\n",
       "        </tr>\n",
       "    \n",
       "        <tr style=\"background-color: hsl(0, 100.00%, 100.00%); border: none;\">\n",
       "            <td style=\"padding: 0 1em 0 0.5em; text-align: right; border: none;\">\n",
       "                0.0000\n",
       "                \n",
       "                    &plusmn; 0.0075\n",
       "                \n",
       "            </td>\n",
       "            <td style=\"padding: 0 0.5em 0 0.5em; text-align: left; border: none;\">\n",
       "                V3\n",
       "            </td>\n",
       "        </tr>\n",
       "    \n",
       "        <tr style=\"background-color: hsl(0, 100.00%, 98.83%); border: none;\">\n",
       "            <td style=\"padding: 0 1em 0 0.5em; text-align: right; border: none;\">\n",
       "                -0.0012\n",
       "                \n",
       "                    &plusmn; 0.0048\n",
       "                \n",
       "            </td>\n",
       "            <td style=\"padding: 0 0.5em 0 0.5em; text-align: left; border: none;\">\n",
       "                V22\n",
       "            </td>\n",
       "        </tr>\n",
       "    \n",
       "        <tr style=\"background-color: hsl(0, 100.00%, 98.83%); border: none;\">\n",
       "            <td style=\"padding: 0 1em 0 0.5em; text-align: right; border: none;\">\n",
       "                -0.0012\n",
       "                \n",
       "                    &plusmn; 0.0048\n",
       "                \n",
       "            </td>\n",
       "            <td style=\"padding: 0 0.5em 0 0.5em; text-align: left; border: none;\">\n",
       "                V2\n",
       "            </td>\n",
       "        </tr>\n",
       "    \n",
       "        <tr style=\"background-color: hsl(0, 100.00%, 98.83%); border: none;\">\n",
       "            <td style=\"padding: 0 1em 0 0.5em; text-align: right; border: none;\">\n",
       "                -0.0012\n",
       "                \n",
       "                    &plusmn; 0.0048\n",
       "                \n",
       "            </td>\n",
       "            <td style=\"padding: 0 0.5em 0 0.5em; text-align: left; border: none;\">\n",
       "                V28\n",
       "            </td>\n",
       "        </tr>\n",
       "    \n",
       "        <tr style=\"background-color: hsl(0, 100.00%, 98.83%); border: none;\">\n",
       "            <td style=\"padding: 0 1em 0 0.5em; text-align: right; border: none;\">\n",
       "                -0.0012\n",
       "                \n",
       "                    &plusmn; 0.0048\n",
       "                \n",
       "            </td>\n",
       "            <td style=\"padding: 0 0.5em 0 0.5em; text-align: left; border: none;\">\n",
       "                V21\n",
       "            </td>\n",
       "        </tr>\n",
       "    \n",
       "        <tr style=\"background-color: hsl(0, 100.00%, 98.83%); border: none;\">\n",
       "            <td style=\"padding: 0 1em 0 0.5em; text-align: right; border: none;\">\n",
       "                -0.0012\n",
       "                \n",
       "                    &plusmn; 0.0048\n",
       "                \n",
       "            </td>\n",
       "            <td style=\"padding: 0 0.5em 0 0.5em; text-align: left; border: none;\">\n",
       "                V27\n",
       "            </td>\n",
       "        </tr>\n",
       "    \n",
       "        <tr style=\"background-color: hsl(0, 100.00%, 98.11%); border: none;\">\n",
       "            <td style=\"padding: 0 1em 0 0.5em; text-align: right; border: none;\">\n",
       "                -0.0024\n",
       "                \n",
       "                    &plusmn; 0.0058\n",
       "                \n",
       "            </td>\n",
       "            <td style=\"padding: 0 0.5em 0 0.5em; text-align: left; border: none;\">\n",
       "                V16\n",
       "            </td>\n",
       "        </tr>\n",
       "    \n",
       "        <tr style=\"background-color: hsl(0, 100.00%, 98.11%); border: none;\">\n",
       "            <td style=\"padding: 0 1em 0 0.5em; text-align: right; border: none;\">\n",
       "                -0.0024\n",
       "                \n",
       "                    &plusmn; 0.0058\n",
       "                \n",
       "            </td>\n",
       "            <td style=\"padding: 0 0.5em 0 0.5em; text-align: left; border: none;\">\n",
       "                V15\n",
       "            </td>\n",
       "        </tr>\n",
       "    \n",
       "        <tr style=\"background-color: hsl(0, 100.00%, 98.11%); border: none;\">\n",
       "            <td style=\"padding: 0 1em 0 0.5em; text-align: right; border: none;\">\n",
       "                -0.0024\n",
       "                \n",
       "                    &plusmn; 0.0058\n",
       "                \n",
       "            </td>\n",
       "            <td style=\"padding: 0 0.5em 0 0.5em; text-align: left; border: none;\">\n",
       "                V18\n",
       "            </td>\n",
       "        </tr>\n",
       "    \n",
       "    \n",
       "        \n",
       "            <tr style=\"background-color: hsl(0, 100.00%, 98.11%); border: none;\">\n",
       "                <td colspan=\"2\" style=\"padding: 0 0.5em 0 0.5em; text-align: center; border: none; white-space: nowrap;\">\n",
       "                    <i>&hellip; 10 more &hellip;</i>\n",
       "                </td>\n",
       "            </tr>\n",
       "        \n",
       "    \n",
       "    </tbody>\n",
       "</table>\n",
       "    \n",
       "\n",
       "    \n",
       "\n",
       "\n",
       "    \n",
       "\n",
       "    \n",
       "\n",
       "    \n",
       "\n",
       "    \n",
       "\n",
       "    \n",
       "\n",
       "    \n",
       "\n",
       "\n",
       "\n"
      ],
      "text/plain": [
       "<IPython.core.display.HTML object>"
      ]
     },
     "execution_count": 46,
     "metadata": {},
     "output_type": "execute_result"
    }
   ],
   "source": [
    "#conda install -c conda-forge eli5\n",
    "import eli5\n",
    "from eli5.sklearn import PermutationImportance\n",
    "\n",
    "perm = PermutationImportance(RF, random_state = 0).fit(X_test, y_test)\n",
    "eli5.show_weights(perm, feature_names = X.columns.tolist())"
   ]
  },
  {
   "cell_type": "markdown",
   "metadata": {},
   "source": [
    "Here, we don't know the exact name of the feature because the company wanted to preserve the anonymity of the data but it's good to know how to do this.\n",
    "\n",
    "Let's move on with the oversampling method."
   ]
  },
  {
   "cell_type": "markdown",
   "metadata": {},
   "source": [
    "<a id=\"8\"></a> <br>\n",
    "## Oversampling with SMOTE techniques\n",
    "\n",
    "SMOTE creates synthetic points from the minority class in order to reach an equal balance between the minority and majority class. More information is retained since we didn't have to delete any rows unlike in random undersampling.\n",
    "Although it is likely that SMOTE will be more accurate than random under-sampling, it will take more time to train since no rows are eliminated as previously stated."
   ]
  },
  {
   "cell_type": "markdown",
   "metadata": {},
   "source": [
    "Like the part with undersampling, we will show the result with oversampling before cross-validation and oversampling during cross-validation.\n",
    "\n",
    "**SMOTE before cross-validation**"
   ]
  },
  {
   "cell_type": "code",
   "execution_count": 21,
   "metadata": {},
   "outputs": [],
   "source": [
    "sampler = SMOTE(sampling_strategy='minority')\n",
    "X_rs, y_rs = sampler.fit_sample(original_Xtrain, original_ytrain)"
   ]
  },
  {
   "cell_type": "code",
   "execution_count": 31,
   "metadata": {},
   "outputs": [],
   "source": [
    "KFold = StratifiedKFold(n_splits=3, random_state=42)\n",
    "scores = {}\n",
    "\n",
    "def score_model(model):\n",
    "    return cross_val_score(model, X_rs, y_rs, scoring='roc_auc', cv = KFold)\n",
    "\n",
    "\n",
    "scores['tree'] = score_model(tree.DecisionTreeClassifier())\n",
    "\n",
    "# time: 9s\n",
    "scores['extra_tree'] = score_model(ensemble.ExtraTreesClassifier())\n",
    "\n",
    "# time: 7s\n",
    "scores['forest'] = score_model(ensemble.RandomForestClassifier())\n",
    "\n",
    "# time: 33s\n",
    "scores['ada_boost'] = score_model(ensemble.AdaBoostClassifier())\n",
    "\n",
    "# time: 1min\n",
    "scores['bagging'] = score_model(ensemble.BaggingClassifier())\n",
    "\n",
    "# time: 2min30s\n",
    "scores['grad_boost'] = score_model(ensemble.GradientBoostingClassifier())\n",
    "\n",
    "# time: 49s\n",
    "scores['ridge'] = score_model(linear_model.RidgeClassifier())\n",
    "\n",
    "# time: 4s\n",
    "scores['passive'] = score_model(linear_model.PassiveAggressiveClassifier())\n",
    "\n",
    "# time: 4s\n",
    "scores['sgd'] = score_model(linear_model.SGDClassifier())\n",
    "\n",
    "\n",
    "# time: 4min\n",
    "scores['xgboost'] = score_model(xgb.XGBClassifier())\n",
    "\n",
    "scores['LightGBM'] = score_model(LGBMClassifier())\n",
    "\n",
    "scores['LinearSVC'] = score_model(LinearSVC())\n",
    "\n",
    "scores['LR'] = score_model(LogisticRegression())"
   ]
  },
  {
   "cell_type": "code",
   "execution_count": 33,
   "metadata": {},
   "outputs": [
    {
     "name": "stdout",
     "output_type": "stream",
     "text": [
      "Model scores\n",
      "extra_tree    0.999914\n",
      "forest        0.999774\n",
      "sgd           0.975350\n",
      "LinearSVC     0.972755\n",
      "LR            0.972743\n",
      "passive       0.972587\n",
      "grad_boost    0.972135\n",
      "LightGBM      0.962589\n",
      "xgboost       0.962357\n",
      "ridge         0.953705\n",
      "ada_boost     0.735199\n",
      "bagging       0.680866\n",
      "tree          0.665948\n",
      "dtype: float64\n"
     ]
    }
   ],
   "source": [
    "model_scores = pd.DataFrame(scores).mean()\n",
    "model_scores = model_scores.sort_values(ascending=False)\n",
    "#model_scores.to_csv('model_scores.csv', index=False)\n",
    "print('Model scores\\n{}'.format(model_scores))"
   ]
  },
  {
   "cell_type": "markdown",
   "metadata": {},
   "source": [
    "That's what I call nice result but maybe our models overfit, let's see.\n",
    "\n",
    "**SMOTE during cross-validation**"
   ]
  },
  {
   "cell_type": "code",
   "execution_count": 75,
   "metadata": {},
   "outputs": [
    {
     "name": "stdout",
     "output_type": "stream",
     "text": [
      "Average accuracy obtained when we oversample during cross-validation : 0.942\n",
      "\n",
      "Average precision obtained when we oversample during cross-validation : 0.0618\n",
      "\n",
      "Average recall obtained when we oversample during cross-validation : 0.914\n",
      "\n",
      "Average f1-score obtained when we oversample during cross-validation : 0.114\n",
      "\n",
      "Average AUC obtained when we oversample during cross-validation : 0.928\n"
     ]
    }
   ],
   "source": [
    "accuracy_lst = []\n",
    "precision_lst = []\n",
    "recall_lst = []\n",
    "f1_lst = []\n",
    "auc_lst = []\n",
    "\n",
    "# Classifier with optimal parameters\n",
    "# log_reg_sm = grid_log_reg.best_estimator_\n",
    "log_reg_sm = LogisticRegression()\n",
    "\n",
    "\n",
    "# Implementing SMOTE Technique \n",
    "# Cross Validating the right way\n",
    "# Parameters\n",
    "\n",
    "for train, test in sss.split(original_Xtrain, original_ytrain):\n",
    "    pipeline = imbalanced_make_pipeline(SMOTE(sampling_strategy='minority'), log_reg_sm) # SMOTE happens during Cross Validation not before..\n",
    "    model = pipeline.fit(original_Xtrain[train], original_ytrain[train])\n",
    "    prediction = model.predict(original_Xtrain[test])\n",
    "    \n",
    "    accuracy_lst.append(pipeline.score(original_Xtrain[test], original_ytrain[test]))\n",
    "    precision_lst.append(precision_score(original_ytrain[test], prediction))\n",
    "    recall_lst.append(recall_score(original_ytrain[test], prediction))\n",
    "    f1_lst.append(f1_score(original_ytrain[test], prediction))\n",
    "    auc_lst.append(roc_auc_score(original_ytrain[test], prediction))\n",
    "    \n",
    "print('Average accuracy obtained when we oversample during cross-validation : {:.3}'.format(np.mean(accuracy_lst)))\n",
    "print('')\n",
    "print('Average precision obtained when we oversample during cross-validation : {:.3}'.format(np.mean(precision_lst)))\n",
    "print('')\n",
    "print('Average recall obtained when we oversample during cross-validation : {:.3}'.format(np.mean(recall_lst)))\n",
    "print('')\n",
    "print('Average f1-score obtained when we oversample during cross-validation : {:.3}'.format(np.mean(f1_lst)))\n",
    "print('')\n",
    "print('Average AUC obtained when we oversample during cross-validation : {:.3}'.format(np.mean(auc_lst)))"
   ]
  },
  {
   "cell_type": "markdown",
   "metadata": {},
   "source": [
    "It's not that bad, but clearly there is a problem."
   ]
  },
  {
   "cell_type": "code",
   "execution_count": 36,
   "metadata": {},
   "outputs": [
    {
     "name": "stdout",
     "output_type": "stream",
     "text": [
      "              precision    recall  f1-score   support\n",
      "\n",
      "    No Fraud       1.00      0.99      0.99     56863\n",
      "       Fraud       0.11      0.86      0.20        98\n",
      "\n",
      "    accuracy                           0.99     56961\n",
      "   macro avg       0.56      0.92      0.60     56961\n",
      "weighted avg       1.00      0.99      0.99     56961\n",
      "\n"
     ]
    }
   ],
   "source": [
    "labels = ['No Fraud', 'Fraud']\n",
    "smote_prediction = model.predict(original_Xtest)\n",
    "print(classification_report(original_ytest, smote_prediction, target_names=labels))"
   ]
  },
  {
   "cell_type": "code",
   "execution_count": 89,
   "metadata": {},
   "outputs": [
    {
     "data": {
      "image/png": "[encoded data removed]",
      "text/plain": [
       "<Figure size 576x432 with 2 Axes>"
      ]
     },
     "metadata": {
      "needs_background": "light"
     },
     "output_type": "display_data"
    }
   ],
   "source": [
    "# Logistic Regression fitted using SMOTE technique\n",
    "\n",
    "y_pred_log_reg = log_reg_sm.predict(original_Xtest)\n",
    "\n",
    "log_reg_cf = confusion_matrix(original_ytest, y_pred_log_reg)\n",
    "\n",
    "plt.figure(figsize = (8,6))\n",
    "sns.heatmap(log_reg_cf, annot=True, fmt=\"d\", cmap=plt.cm.copper)\n",
    "plt.title(\"Logistic Regression with SMOTE \\n Confusion Matrix\", fontsize=14);"
   ]
  },
  {
   "cell_type": "markdown",
   "metadata": {},
   "source": [
    "That's the \"No fraud detected\" class (Top right square) that is the most wrongly predicted, that's not bad, but worse than \"fraud detected\" class (bottom left square ). I think the model caught quite well the structure of the data with SMOTE but due to the SMOTE technique who increase the number of \"fraud cases\", the model tend to predict more often into this category. \n",
    "\n",
    "Personnaly, I think it's not that bad at all. It depend on the company, there is a trade off, if they want to detect more the fraud case so it's all good but if they prefer to not lose a client, categorizing them into a fraud, so maybe we need to reconsider our model. This type of question need to be discuss with the marketing pole. The Data Scientist create insight, that's not to him to decide who's better for the company, not alone. \n",
    "\n",
    "I found than the SMOTE technique work better than undersampling. The aim of this project is not to find the better model, but to find answer with imbalanced dataset and avoir overfitting instead. "
   ]
  },
  {
   "cell_type": "markdown",
   "metadata": {},
   "source": [
    "Now, we will focus on Deep Learning rather than machine learning. \n",
    "\n",
    "<a id=\"9\"></a> <br>\n",
    "## Neural Networks Testing Random UnderSampling Data vs OverSampling (SMOTE):\n",
    "\n",
    "Here we will implement a simple Neural Network (with one hidden layer) in order to see which of the two logistic regressions models we implemented in the (undersample or oversample(SMOTE)) has a better accuracy for detecting fraud and non-fraud transactions.\n",
    "\n",
    "Our main goal is to explore how our simple neural network behaves in both the random undersample and oversample dataframes and see whether they can predict accuractely both non-fraud and fraud cases. "
   ]
  },
  {
   "cell_type": "markdown",
   "metadata": {},
   "source": [
    "In this final phase of testing we will fit this model in both the random undersampled subset and oversampled dataset (SMOTE) in order to predict the final result using the original dataframe testing data."
   ]
  },
  {
   "cell_type": "markdown",
   "metadata": {},
   "source": [
    "**Keras || Random UnderSampling**"
   ]
  },
  {
   "cell_type": "code",
   "execution_count": 96,
   "metadata": {},
   "outputs": [],
   "source": [
    "n_inputs = X_train.shape[1]\n",
    "\n",
    "undersample_model = Sequential([\n",
    "    Dense(n_inputs, input_shape=(n_inputs, ), activation='relu'),\n",
    "    Dense(32, activation='relu'),\n",
    "    Dense(2, activation='softmax')\n",
    "])\n",
    "\n",
    "undersample_model.compile(Adam(lr=0.001), loss='sparse_categorical_crossentropy', metrics=['accuracy'])"
   ]
  },
  {
   "cell_type": "code",
   "execution_count": 97,
   "metadata": {},
   "outputs": [
    {
     "name": "stdout",
     "output_type": "stream",
     "text": [
      "Train on 535 samples, validate on 134 samples\n",
      "Epoch 1/20\n",
      " - 0s - loss: 0.5460 - accuracy: 0.6617 - val_loss: 0.4106 - val_accuracy: 0.8060\n",
      "Epoch 2/20\n",
      " - 0s - loss: 0.3167 - accuracy: 0.8991 - val_loss: 0.3436 - val_accuracy: 0.8657\n",
      "Epoch 3/20\n",
      " - 0s - loss: 0.2326 - accuracy: 0.9271 - val_loss: 0.3135 - val_accuracy: 0.8731\n",
      "Epoch 4/20\n",
      " - 0s - loss: 0.1877 - accuracy: 0.9421 - val_loss: 0.2852 - val_accuracy: 0.8806\n",
      "Epoch 5/20\n",
      " - 0s - loss: 0.1587 - accuracy: 0.9477 - val_loss: 0.2797 - val_accuracy: 0.8955\n",
      "Epoch 6/20\n",
      " - 0s - loss: 0.1381 - accuracy: 0.9477 - val_loss: 0.2844 - val_accuracy: 0.8881\n",
      "Epoch 7/20\n",
      " - 0s - loss: 0.1255 - accuracy: 0.9514 - val_loss: 0.2804 - val_accuracy: 0.8806\n",
      "Epoch 8/20\n",
      " - 0s - loss: 0.1151 - accuracy: 0.9607 - val_loss: 0.2869 - val_accuracy: 0.8806\n",
      "Epoch 9/20\n",
      " - 0s - loss: 0.1073 - accuracy: 0.9607 - val_loss: 0.2916 - val_accuracy: 0.8806\n",
      "Epoch 10/20\n",
      " - 0s - loss: 0.1001 - accuracy: 0.9664 - val_loss: 0.2912 - val_accuracy: 0.8806\n",
      "Epoch 11/20\n",
      " - 0s - loss: 0.0949 - accuracy: 0.9682 - val_loss: 0.3027 - val_accuracy: 0.8806\n",
      "Epoch 12/20\n",
      " - 0s - loss: 0.0899 - accuracy: 0.9682 - val_loss: 0.3130 - val_accuracy: 0.8806\n",
      "Epoch 13/20\n",
      " - 0s - loss: 0.0851 - accuracy: 0.9738 - val_loss: 0.3088 - val_accuracy: 0.8881\n",
      "Epoch 14/20\n",
      " - 0s - loss: 0.0817 - accuracy: 0.9776 - val_loss: 0.3180 - val_accuracy: 0.8881\n",
      "Epoch 15/20\n",
      " - 0s - loss: 0.0772 - accuracy: 0.9776 - val_loss: 0.3296 - val_accuracy: 0.8881\n",
      "Epoch 16/20\n",
      " - 0s - loss: 0.0742 - accuracy: 0.9757 - val_loss: 0.3323 - val_accuracy: 0.8881\n",
      "Epoch 17/20\n",
      " - 0s - loss: 0.0686 - accuracy: 0.9776 - val_loss: 0.3424 - val_accuracy: 0.8881\n",
      "Epoch 18/20\n",
      " - 0s - loss: 0.0655 - accuracy: 0.9794 - val_loss: 0.3459 - val_accuracy: 0.8881\n",
      "Epoch 19/20\n",
      " - 0s - loss: 0.0624 - accuracy: 0.9813 - val_loss: 0.3479 - val_accuracy: 0.8881\n",
      "Epoch 20/20\n",
      " - 0s - loss: 0.0600 - accuracy: 0.9832 - val_loss: 0.3524 - val_accuracy: 0.8881\n"
     ]
    },
    {
     "data": {
      "text/plain": [
       "<keras.callbacks.callbacks.History at 0x192827c5128>"
      ]
     },
     "execution_count": 97,
     "metadata": {},
     "output_type": "execute_result"
    }
   ],
   "source": [
    "undersample_model.fit(X_train, y_train, validation_split=0.2, batch_size=25, epochs=20, shuffle=True, verbose=2)"
   ]
  },
  {
   "cell_type": "code",
   "execution_count": 104,
   "metadata": {},
   "outputs": [],
   "source": [
    "undersample_fraud_predictions = undersample_model.predict_classes(original_Xtest, batch_size=200, verbose=0)"
   ]
  },
  {
   "cell_type": "code",
   "execution_count": 110,
   "metadata": {},
   "outputs": [
    {
     "name": "stdout",
     "output_type": "stream",
     "text": [
      "Auc: 0.94%\n"
     ]
    }
   ],
   "source": [
    "def roc_auc(predictions,target):\n",
    "    '''\n",
    "    This methods returns the AUC Score when given the Predictions\n",
    "    and Labels\n",
    "    '''\n",
    "    \n",
    "    fpr, tpr, thresholds = metrics.roc_curve(target, predictions)\n",
    "    roc_auc = metrics.auc(fpr, tpr)\n",
    "    return roc_auc\n",
    "\n",
    "print(\"Auc: %.2f%%\" % (roc_auc(undersample_fraud_predictions,original_ytest)))"
   ]
  },
  {
   "cell_type": "code",
   "execution_count": 112,
   "metadata": {},
   "outputs": [
    {
     "data": {
      "image/png": "[encoded data removed]",
      "text/plain": [
       "<Figure size 576x432 with 2 Axes>"
      ]
     },
     "metadata": {
      "needs_background": "light"
     },
     "output_type": "display_data"
    }
   ],
   "source": [
    "cm = confusion_matrix(original_ytest, undersample_fraud_predictions)\n",
    "\n",
    "plt.figure(figsize = (8,6))\n",
    "sns.heatmap(cm, annot=True, fmt=\"d\", cmap=plt.cm.copper)\n",
    "plt.title(\"Deep Learning with undersampling \\n Confusion Matrix\", fontsize=14);"
   ]
  },
  {
   "cell_type": "markdown",
   "metadata": {},
   "source": [
    "That's seems better that our machine learning model with undersampling, but not better that our machine learning model with SMOTE so let's see SMOTE !"
   ]
  },
  {
   "cell_type": "markdown",
   "metadata": {},
   "source": [
    "**Keras || SMOTE**"
   ]
  },
  {
   "cell_type": "code",
   "execution_count": 115,
   "metadata": {},
   "outputs": [],
   "source": [
    "n_inputs = X_rs.shape[1]\n",
    "\n",
    "oversample_model = Sequential([\n",
    "    Dense(n_inputs, input_shape=(n_inputs, ), activation='relu'),\n",
    "    Dense(32, activation='relu'),\n",
    "    Dense(2, activation='softmax')\n",
    "])\n",
    "\n",
    "oversample_model.compile(Adam(lr=0.001), loss='sparse_categorical_crossentropy', metrics=['accuracy'])"
   ]
  },
  {
   "cell_type": "code",
   "execution_count": 116,
   "metadata": {},
   "outputs": [
    {
     "name": "stdout",
     "output_type": "stream",
     "text": [
      "Train on 363923 samples, validate on 90981 samples\n",
      "Epoch 1/20\n",
      " - 3s - loss: 0.0756 - accuracy: 0.9743 - val_loss: 0.0295 - val_accuracy: 0.9924\n",
      "Epoch 2/20\n",
      " - 3s - loss: 0.0130 - accuracy: 0.9969 - val_loss: 0.0116 - val_accuracy: 0.9996\n",
      "Epoch 3/20\n",
      " - 4s - loss: 0.0067 - accuracy: 0.9986 - val_loss: 0.0029 - val_accuracy: 1.0000\n",
      "Epoch 4/20\n",
      " - 4s - loss: 0.0046 - accuracy: 0.9991 - val_loss: 0.0018 - val_accuracy: 1.0000\n",
      "Epoch 5/20\n",
      " - 5s - loss: 0.0036 - accuracy: 0.9993 - val_loss: 0.0019 - val_accuracy: 1.0000\n",
      "Epoch 6/20\n",
      " - 3s - loss: 0.0028 - accuracy: 0.9995 - val_loss: 0.0010 - val_accuracy: 1.0000\n",
      "Epoch 7/20\n",
      " - 4s - loss: 0.0024 - accuracy: 0.9995 - val_loss: 0.0033 - val_accuracy: 0.9996\n",
      "Epoch 8/20\n",
      " - 4s - loss: 0.0020 - accuracy: 0.9996 - val_loss: 6.8415e-04 - val_accuracy: 1.0000\n",
      "Epoch 9/20\n",
      " - 4s - loss: 0.0020 - accuracy: 0.9996 - val_loss: 0.0014 - val_accuracy: 0.9998\n",
      "Epoch 10/20\n",
      " - 3s - loss: 0.0018 - accuracy: 0.9996 - val_loss: 0.0011 - val_accuracy: 1.0000\n",
      "Epoch 11/20\n",
      " - 3s - loss: 0.0015 - accuracy: 0.9997 - val_loss: 5.4840e-04 - val_accuracy: 1.0000\n",
      "Epoch 12/20\n",
      " - 4s - loss: 0.0014 - accuracy: 0.9997 - val_loss: 0.0011 - val_accuracy: 1.0000\n",
      "Epoch 13/20\n",
      " - 3s - loss: 0.0014 - accuracy: 0.9997 - val_loss: 6.8971e-04 - val_accuracy: 1.0000\n",
      "Epoch 14/20\n",
      " - 3s - loss: 0.0012 - accuracy: 0.9998 - val_loss: 1.8198e-04 - val_accuracy: 1.0000\n",
      "Epoch 15/20\n",
      " - 4s - loss: 0.0013 - accuracy: 0.9997 - val_loss: 0.0060 - val_accuracy: 0.9987\n",
      "Epoch 16/20\n",
      " - 3s - loss: 0.0010 - accuracy: 0.9998 - val_loss: 3.8262e-04 - val_accuracy: 1.0000\n",
      "Epoch 17/20\n",
      " - 3s - loss: 0.0012 - accuracy: 0.9997 - val_loss: 0.0031 - val_accuracy: 0.9989\n",
      "Epoch 18/20\n",
      " - 3s - loss: 8.3043e-04 - accuracy: 0.9998 - val_loss: 0.0031 - val_accuracy: 0.9989\n",
      "Epoch 19/20\n",
      " - 3s - loss: 0.0011 - accuracy: 0.9997 - val_loss: 3.6994e-04 - val_accuracy: 1.0000\n",
      "Epoch 20/20\n",
      " - 4s - loss: 9.5784e-04 - accuracy: 0.9998 - val_loss: 6.2119e-04 - val_accuracy: 0.9999\n"
     ]
    },
    {
     "data": {
      "text/plain": [
       "<keras.callbacks.callbacks.History at 0x1928192efd0>"
      ]
     },
     "execution_count": 116,
     "metadata": {},
     "output_type": "execute_result"
    }
   ],
   "source": [
    "oversample_model.fit(X_rs, y_rs, validation_split=0.2, batch_size=300, epochs=20, shuffle=True, verbose=2)"
   ]
  },
  {
   "cell_type": "code",
   "execution_count": 117,
   "metadata": {},
   "outputs": [],
   "source": [
    "oversample_fraud_predictions = oversample_model.predict_classes(original_Xtest, batch_size=200, verbose=0)"
   ]
  },
  {
   "cell_type": "code",
   "execution_count": 118,
   "metadata": {},
   "outputs": [
    {
     "name": "stdout",
     "output_type": "stream",
     "text": [
      "Auc: 0.83%\n"
     ]
    }
   ],
   "source": [
    "print(\"Auc: %.2f%%\" % (roc_auc(oversample_fraud_predictions,original_ytest)))"
   ]
  },
  {
   "cell_type": "code",
   "execution_count": 121,
   "metadata": {},
   "outputs": [
    {
     "data": {
      "image/png": "[encoded data removed]",
      "text/plain": [
       "<Figure size 576x432 with 2 Axes>"
      ]
     },
     "metadata": {
      "needs_background": "light"
     },
     "output_type": "display_data"
    }
   ],
   "source": [
    "cm = confusion_matrix(original_ytest, oversample_fraud_predictions)\n",
    "\n",
    "plt.figure(figsize = (8,6))\n",
    "sns.heatmap(cm, annot=True, fmt=\"d\", cmap=plt.cm.copper)\n",
    "plt.title(\"Deep Learning with oversampling \\n Confusion Matrix\", fontsize=14);"
   ]
  },
  {
   "cell_type": "markdown",
   "metadata": {},
   "source": [
    "Hmmm, here the model seems to having trouble to detect the fraud cases, I think I know why, I will explain it in the conclusion.\n",
    "\n",
    "<a id=\"10\"></a> <br>\n",
    "## Conclusion:\n",
    "\n",
    "Implementing SMOTE on our imbalanced dataset helped us with the imbalance of our labels (more no fraud than fraud transactions). Nevertheless, I still have to state that sometimes the neural network on the oversampled dataset predicts less correct fraud transactions than our model using the undersample dataset. However, remember that the removal of outliers was implemented only on the random undersample dataset and not on the oversampled one. So I guess it's one of the reason why the last model do not perform well to predict correctly fraud transactions.\n",
    "\n",
    "In my opinion, if you have the right computer, go for Oversampling and not undersampling. The loss of information with undersampling is significant and it sould be taken into consideration. The main problem with oversampling is the fact that it's more computationnaly expensive and I think it's less problematic, again if you have the right computer."
   ]
  },
  {
   "cell_type": "code",
   "execution_count": null,
   "metadata": {},
   "outputs": [],
   "source": []
  }
 ],
 "metadata": {
  "kernelspec": {
   "display_name": "Python 3",
   "language": "python",
   "name": "python3"
  },
  "language_info": {
   "codemirror_mode": {
    "name": "ipython",
    "version": 3
   },
   "file_extension": ".py",
   "mimetype": "text/x-python",
   "name": "python",
   "nbconvert_exporter": "python",
   "pygments_lexer": "ipython3",
   "version": "3.7.3"
  }
 },
 "nbformat": 4,
 "nbformat_minor": 4
}
